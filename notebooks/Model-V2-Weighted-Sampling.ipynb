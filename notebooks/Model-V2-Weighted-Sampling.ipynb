{
 "cells": [
  {
   "cell_type": "code",
   "execution_count": 1,
   "metadata": {
    "colab": {
     "base_uri": "https://localhost:8080/",
     "height": 768
    },
    "colab_type": "code",
    "executionInfo": {
     "elapsed": 18151,
     "status": "ok",
     "timestamp": 1584283215106,
     "user": {
      "displayName": "Luke S",
      "photoUrl": "",
      "userId": "14962309687492295189"
     },
     "user_tz": -60
    },
    "id": "zBeMbWQBr13G",
    "outputId": "366620e1-1f73-4416-accf-c9e7b7658b67"
   },
   "outputs": [
    {
     "name": "stdout",
     "output_type": "stream",
     "text": [
      "fatal: destination path 'transformers' already exists and is not an empty directory.\n",
      "Processing /data/notebooks/transformers\n",
      "Requirement already satisfied: numpy in /usr/local/lib/python3.6/dist-packages (from transformers==2.5.1) (1.18.1)\n",
      "Requirement already satisfied: tokenizers==0.5.2 in /usr/local/lib/python3.6/dist-packages (from transformers==2.5.1) (0.5.2)\n",
      "Requirement already satisfied: boto3 in /usr/local/lib/python3.6/dist-packages (from transformers==2.5.1) (1.12.22)\n",
      "Requirement already satisfied: filelock in /usr/local/lib/python3.6/dist-packages (from transformers==2.5.1) (3.0.12)\n",
      "Requirement already satisfied: requests in /usr/local/lib/python3.6/dist-packages (from transformers==2.5.1) (2.22.0)\n",
      "Requirement already satisfied: tqdm>=4.27 in /usr/local/lib/python3.6/dist-packages (from transformers==2.5.1) (4.42.0)\n",
      "Requirement already satisfied: regex!=2019.12.17 in /usr/local/lib/python3.6/dist-packages (from transformers==2.5.1) (2020.2.20)\n",
      "Requirement already satisfied: sentencepiece in /usr/local/lib/python3.6/dist-packages (from transformers==2.5.1) (0.1.85)\n",
      "Requirement already satisfied: sacremoses in /usr/local/lib/python3.6/dist-packages (from transformers==2.5.1) (0.0.38)\n",
      "Requirement already satisfied: s3transfer<0.4.0,>=0.3.0 in /usr/local/lib/python3.6/dist-packages (from boto3->transformers==2.5.1) (0.3.3)\n",
      "Requirement already satisfied: jmespath<1.0.0,>=0.7.1 in /usr/local/lib/python3.6/dist-packages (from boto3->transformers==2.5.1) (0.9.5)\n",
      "Requirement already satisfied: botocore<1.16.0,>=1.15.22 in /usr/local/lib/python3.6/dist-packages (from boto3->transformers==2.5.1) (1.15.22)\n",
      "Requirement already satisfied: idna<2.9,>=2.5 in /usr/local/lib/python3.6/dist-packages (from requests->transformers==2.5.1) (2.8)\n",
      "Requirement already satisfied: urllib3!=1.25.0,!=1.25.1,<1.26,>=1.21.1 in /usr/local/lib/python3.6/dist-packages (from requests->transformers==2.5.1) (1.25.8)\n",
      "Requirement already satisfied: certifi>=2017.4.17 in /usr/local/lib/python3.6/dist-packages (from requests->transformers==2.5.1) (2019.11.28)\n",
      "Requirement already satisfied: chardet<3.1.0,>=3.0.2 in /usr/local/lib/python3.6/dist-packages (from requests->transformers==2.5.1) (3.0.4)\n",
      "Requirement already satisfied: joblib in /usr/local/lib/python3.6/dist-packages (from sacremoses->transformers==2.5.1) (0.14.1)\n",
      "Requirement already satisfied: click in /usr/local/lib/python3.6/dist-packages (from sacremoses->transformers==2.5.1) (7.1.1)\n",
      "Requirement already satisfied: six in /usr/local/lib/python3.6/dist-packages (from sacremoses->transformers==2.5.1) (1.14.0)\n",
      "Requirement already satisfied: python-dateutil<3.0.0,>=2.1 in /usr/local/lib/python3.6/dist-packages (from botocore<1.16.0,>=1.15.22->boto3->transformers==2.5.1) (2.8.1)\n",
      "Requirement already satisfied: docutils<0.16,>=0.10 in /usr/local/lib/python3.6/dist-packages (from botocore<1.16.0,>=1.15.22->boto3->transformers==2.5.1) (0.15.2)\n",
      "Building wheels for collected packages: transformers\n",
      "  Building wheel for transformers (setup.py) ... \u001b[?25ldone\n",
      "\u001b[?25h  Created wheel for transformers: filename=transformers-2.5.1-py3-none-any.whl size=528611 sha256=edd5bf6ebd45ce3365dfecb2e4f6857cbae694d001e0d370cf89f13c53bdfe89\n",
      "  Stored in directory: /tmp/pip-ephem-wheel-cache-lb61b4rp/wheels/5c/1c/47/7aca7c86ce98d3f7beb792bd7f926ef4d3cc45abd4f8daaa44\n",
      "Successfully built transformers\n",
      "Installing collected packages: transformers\n",
      "  Attempting uninstall: transformers\n",
      "    Found existing installation: transformers 2.5.1\n",
      "    Uninstalling transformers-2.5.1:\n",
      "      Successfully uninstalled transformers-2.5.1\n",
      "Successfully installed transformers-2.5.1\n"
     ]
    }
   ],
   "source": [
    "!git clone https://github.com/huggingface/transformers\n",
    "!cd transformers && pip install ."
   ]
  },
  {
   "cell_type": "code",
   "execution_count": null,
   "metadata": {
    "colab": {
     "base_uri": "https://localhost:8080/",
     "height": 122
    },
    "colab_type": "code",
    "executionInfo": {
     "elapsed": 23566,
     "status": "ok",
     "timestamp": 1584283241291,
     "user": {
      "displayName": "Luke S",
      "photoUrl": "",
      "userId": "14962309687492295189"
     },
     "user_tz": -60
    },
    "id": "Ex_WffFWr687",
    "outputId": "0d22e2d8-1fca-4be1-af0f-7c2ac2127088"
   },
   "outputs": [],
   "source": []
  },
  {
   "cell_type": "code",
   "execution_count": 2,
   "metadata": {
    "colab": {
     "base_uri": "https://localhost:8080/",
     "height": 114
    },
    "colab_type": "code",
    "executionInfo": {
     "elapsed": 15093,
     "status": "ok",
     "timestamp": 1584283257337,
     "user": {
      "displayName": "Luke S",
      "photoUrl": "",
      "userId": "14962309687492295189"
     },
     "user_tz": -60
    },
    "id": "s2NKPhhZsBt-",
    "outputId": "50bb3f03-02ef-461d-e14b-2dcb3e9d1e28"
   },
   "outputs": [
    {
     "name": "stdout",
     "output_type": "stream",
     "text": [
      "There are 1 GPU(s) available.\n",
      "We will use the GPU: Tesla V100-SXM2-16GB\n",
      "Found GPU at: /device:GPU:0\n"
     ]
    }
   ],
   "source": [
    "import torch\n",
    "from transformers import *\n",
    "import pandas as pd\n",
    "import numpy as np\n",
    "import tensorflow as tf\n",
    "\n",
    "# If there's a GPU available...\n",
    "\n",
    "if torch.cuda.is_available():    \n",
    "\n",
    "    # Tell PyTorch to use the GPU.    \n",
    "    device = torch.device(\"cuda\")\n",
    "\n",
    "    print('There are %d GPU(s) available.' % torch.cuda.device_count())\n",
    "\n",
    "    print('We will use the GPU:', torch.cuda.get_device_name(0))\n",
    "\n",
    "# If not...\n",
    "else:\n",
    "    print('No GPU available, using the CPU instead.')\n",
    "    device = torch.device(\"cpu\")\n",
    "\n",
    "# Get the GPU device name.\n",
    "device_name = tf.test.gpu_device_name()\n",
    "\n",
    "# The device name should look like the following:\n",
    "if device_name == '/device:GPU:0':\n",
    "    print('Found GPU at: {}'.format(device_name))\n",
    "else:\n",
    "    raise SystemError('GPU device not found')"
   ]
  },
  {
   "cell_type": "code",
   "execution_count": 3,
   "metadata": {
    "colab": {},
    "colab_type": "code",
    "id": "_rbIV1AmsGTH"
   },
   "outputs": [],
   "source": [
    "data_dir = \"../datasets/TrainingV2/Train_test_validation/\"\n",
    "\n",
    "all_df = pd.read_csv(data_dir + \"all_data.csv\")\n",
    "train_df = pd.read_csv(data_dir + \"train_cwe_nlp.csv\")\n",
    "validation_df = pd.read_csv(data_dir + \"validation_cwe_nlp.csv\")\n",
    "test_df = pd.read_csv(data_dir + \"test_cwe_nlp.csv\")\n",
    "underrep_df = pd.read_csv(data_dir + \"underrep_cwe_nlp.csv\")\n",
    "\n",
    "# Drop datapoints with less than 5 examples\n",
    "counts = all_df[\"CWE-ID\"].value_counts()\n",
    "underrepresented_cwes = counts.where(counts < 6).dropna().index.tolist()\n",
    "underrep_frame = all_df[all_df['CWE-ID'].isin(underrepresented_cwes)]\n",
    "all_df = all_df[~all_df['CWE-ID'].isin(counts[counts < 6].index)]\n",
    "counts = all_df[\"CWE-ID\"].value_counts()"
   ]
  },
  {
   "cell_type": "code",
   "execution_count": 4,
   "metadata": {
    "colab": {
     "base_uri": "https://localhost:8080/",
     "height": 85
    },
    "colab_type": "code",
    "executionInfo": {
     "elapsed": 1755,
     "status": "ok",
     "timestamp": 1584233539337,
     "user": {
      "displayName": "Lukas Stephan",
      "photoUrl": "https://lh3.googleusercontent.com/a-/AOh14GioBWVaLUZnXCnDOZorMWKEyF2wML6Ssv5myxIf=s64",
      "userId": "03481974434335764588"
     },
     "user_tz": -60
    },
    "id": "-6IG9Yn0syAS",
    "outputId": "5edb23b8-6a4d-4dac-b0c2-4ad0450b630c"
   },
   "outputs": [
    {
     "name": "stdout",
     "output_type": "stream",
     "text": [
      "377\n",
      "377\n",
      "348\n",
      "344\n",
      "Unique: 377\n"
     ]
    }
   ],
   "source": [
    "all_labels = all_df[\"CWE-ID\"].unique()\n",
    "train_labels = train_df['CWE-ID'].unique()\n",
    "validation_labels = validation_df['CWE-ID'].unique()\n",
    "test_labels = test_df['CWE-ID'].unique()\n",
    "merged_labels = np.concatenate((train_labels, validation_labels, test_labels))\n",
    "merged_labels = np.unique(merged_labels)\n",
    "print(len(all_labels))\n",
    "print(len(train_labels))\n",
    "print(len(validation_labels))\n",
    "print(len(test_labels))\n",
    "print(\"Unique: {}\".format(len(merged_labels)))\n",
    "#print(np.logical_and( (train_labels==validation_labels).all(), (validation_labels==test_labels).all() ))\n",
    "#print(np.sort(merged_labels))"
   ]
  },
  {
   "cell_type": "code",
   "execution_count": 5,
   "metadata": {
    "colab": {
     "base_uri": "https://localhost:8080/",
     "height": 54
    },
    "colab_type": "code",
    "executionInfo": {
     "elapsed": 561,
     "status": "ok",
     "timestamp": 1584233541489,
     "user": {
      "displayName": "Lukas Stephan",
      "photoUrl": "https://lh3.googleusercontent.com/a-/AOh14GioBWVaLUZnXCnDOZorMWKEyF2wML6Ssv5myxIf=s64",
      "userId": "03481974434335764588"
     },
     "user_tz": -60
    },
    "id": "TKLSJ8AGsn_T",
    "outputId": "b6046325-e600-49f0-cf15-3050461ae702"
   },
   "outputs": [
    {
     "name": "stdout",
     "output_type": "stream",
     "text": [
      "{16: 0, 17: 1, 18: 2, 19: 3, 20: 4, 22: 5, 23: 6, 28: 7, 29: 8, 32: 9, 33: 10, 35: 11, 36: 12, 37: 13, 38: 14, 39: 15, 41: 16, 42: 17, 46: 18, 49: 19, 50: 20, 55: 21, 57: 22, 58: 23, 59: 24, 61: 25, 62: 26, 64: 27, 65: 28, 67: 29, 69: 30, 73: 31, 74: 32, 77: 33, 78: 34, 79: 35, 80: 36, 81: 37, 82: 38, 83: 39, 84: 40, 85: 41, 88: 42, 89: 43, 90: 44, 91: 45, 93: 46, 94: 47, 95: 48, 96: 49, 98: 50, 99: 51, 113: 52, 116: 53, 117: 54, 118: 55, 119: 56, 120: 57, 122: 58, 123: 59, 124: 60, 125: 61, 129: 62, 130: 63, 131: 64, 134: 65, 138: 66, 143: 67, 147: 68, 150: 69, 151: 70, 154: 71, 155: 72, 156: 73, 157: 74, 158: 75, 166: 76, 167: 77, 170: 78, 172: 79, 174: 80, 176: 81, 177: 82, 178: 83, 179: 84, 180: 85, 181: 86, 182: 87, 184: 88, 185: 89, 187: 90, 189: 91, 190: 92, 191: 93, 193: 94, 194: 95, 195: 96, 197: 97, 199: 98, 200: 99, 203: 100, 204: 101, 205: 102, 206: 103, 207: 104, 208: 105, 209: 106, 211: 107, 212: 108, 213: 109, 214: 110, 215: 111, 219: 112, 222: 113, 223: 114, 226: 115, 230: 116, 234: 117, 239: 118, 250: 119, 252: 120, 254: 121, 255: 122, 259: 123, 264: 124, 266: 125, 267: 126, 268: 127, 269: 128, 270: 129, 271: 130, 273: 131, 274: 132, 275: 133, 276: 134, 277: 135, 279: 136, 280: 137, 281: 138, 283: 139, 284: 140, 285: 141, 287: 142, 288: 143, 289: 144, 290: 145, 294: 146, 295: 147, 296: 148, 297: 149, 298: 150, 299: 151, 301: 152, 302: 153, 304: 154, 305: 155, 306: 156, 307: 157, 310: 158, 311: 159, 312: 160, 313: 161, 315: 162, 316: 163, 318: 164, 319: 165, 320: 166, 325: 167, 326: 168, 327: 169, 330: 170, 331: 171, 332: 172, 334: 173, 335: 174, 338: 175, 341: 176, 342: 177, 345: 178, 346: 179, 347: 180, 348: 181, 350: 182, 352: 183, 354: 184, 356: 185, 358: 186, 359: 187, 361: 188, 362: 189, 364: 190, 367: 191, 368: 192, 369: 193, 370: 194, 384: 195, 386: 196, 388: 197, 392: 198, 393: 199, 394: 200, 399: 201, 400: 202, 401: 203, 403: 204, 404: 205, 406: 206, 407: 207, 409: 208, 410: 209, 412: 210, 415: 211, 416: 212, 417: 213, 420: 214, 421: 215, 422: 216, 425: 217, 426: 218, 427: 219, 428: 220, 430: 221, 433: 222, 434: 223, 436: 224, 439: 225, 440: 226, 441: 227, 444: 228, 447: 229, 449: 230, 451: 231, 454: 232, 456: 233, 457: 234, 459: 235, 470: 236, 471: 237, 472: 238, 473: 239, 476: 240, 479: 241, 493: 242, 494: 243, 502: 244, 521: 245, 522: 246, 532: 247, 534: 248, 538: 249, 552: 250, 565: 251, 573: 252, 599: 253, 601: 254, 602: 255, 610: 256, 611: 257, 613: 258, 614: 259, 615: 260, 616: 261, 617: 262, 618: 263, 620: 264, 621: 265, 622: 266, 623: 267, 624: 268, 625: 269, 626: 270, 627: 271, 636: 272, 637: 273, 639: 274, 640: 275, 642: 276, 644: 277, 647: 278, 648: 279, 649: 280, 656: 281, 665: 282, 667: 283, 668: 284, 669: 285, 672: 286, 674: 287, 676: 288, 681: 289, 682: 290, 689: 291, 690: 292, 692: 293, 693: 294, 696: 295, 698: 296, 704: 297, 707: 298, 708: 299, 732: 300, 749: 301, 754: 302, 755: 303, 757: 304, 759: 305, 760: 306, 763: 307, 770: 308, 772: 309, 775: 310, 776: 311, 778: 312, 779: 313, 781: 314, 782: 315, 783: 316, 784: 317, 786: 318, 787: 319, 788: 320, 789: 321, 798: 322, 805: 323, 807: 324, 822: 325, 823: 326, 824: 327, 825: 328, 826: 329, 827: 330, 828: 331, 829: 332, 830: 333, 832: 334, 833: 335, 834: 336, 835: 337, 836: 338, 837: 339, 838: 340, 839: 341, 841: 342, 842: 343, 843: 344, 862: 345, 863: 346, 908: 347, 909: 348, 911: 349, 913: 350, 914: 351, 915: 352, 916: 353, 918: 354, 920: 355, 921: 356, 922: 357, 924: 358, 927: 359, 940: 360, 941: 361, 942: 362, 943: 363, 1004: 364, 1007: 365, 1021: 366, 1037: 367, 1039: 368, 1187: 369, 1188: 370, 1232: 371, 1236: 372, 1239: 373, 1240: 374, 1249: 375, 1251: 376}\n"
     ]
    }
   ],
   "source": [
    "lookup_table = dict(zip(list(merged_labels), range(0, len(merged_labels))))\n",
    "print(lookup_table)"
   ]
  },
  {
   "cell_type": "code",
   "execution_count": 6,
   "metadata": {
    "colab": {},
    "colab_type": "code",
    "id": "HczosksPtZXU"
   },
   "outputs": [],
   "source": [
    "all_df['CWE-ID'] = all_df['CWE-ID'].apply(lambda x:lookup_table[x])\n",
    "train_df['CWE-ID'] = train_df['CWE-ID'].apply(lambda x:lookup_table[x])\n",
    "validation_df['CWE-ID'] = validation_df['CWE-ID'].apply(lambda x:lookup_table[x])\n",
    "test_df['CWE-ID'] = test_df['CWE-ID'].apply(lambda x:lookup_table[x])"
   ]
  },
  {
   "cell_type": "code",
   "execution_count": 7,
   "metadata": {},
   "outputs": [
    {
     "data": {
      "text/plain": [
       "35     8672\n",
       "56     8331\n",
       "4      5683\n",
       "99     4794\n",
       "124    3829\n",
       "       ... \n",
       "373       4\n",
       "280       4\n",
       "97        4\n",
       "368       4\n",
       "154       4\n",
       "Name: CWE-ID, Length: 377, dtype: int64"
      ]
     },
     "execution_count": 7,
     "metadata": {},
     "output_type": "execute_result"
    }
   ],
   "source": [
    "train_df['CWE-ID'].value_counts()"
   ]
  },
  {
   "cell_type": "code",
   "execution_count": 8,
   "metadata": {
    "colab": {},
    "colab_type": "code",
    "id": "AnFxSWhSjC5I"
   },
   "outputs": [],
   "source": [
    "# Configuration Section"
   ]
  },
  {
   "cell_type": "code",
   "execution_count": 9,
   "metadata": {
    "colab": {},
    "colab_type": "code",
    "id": "mXuqaKgdihzQ"
   },
   "outputs": [],
   "source": [
    "MAX_LEN = 512\n",
    "BATCH_SIZE = 16\n",
    "EPOCHS = 4\n",
    "NUM_LABELS = len(lookup_table.keys())"
   ]
  },
  {
   "cell_type": "code",
   "execution_count": 10,
   "metadata": {
    "colab": {
     "base_uri": "https://localhost:8080/",
     "height": 66,
     "referenced_widgets": [
      "5f8ae24b584f42eba9590e163a92d13d",
      "5243245110c342a0a118aa8a3a596d9a",
      "b737b456003540bfbfe10b6c465ec22e",
      "3344529ff90f4266af2aaf0c5566c0dd",
      "646ffdb86a37478c92c20e5401ccec46",
      "4017e4f4d45a4b319f731e9db1c24b7e",
      "d1c5232757d54bcb9cd347d8fc53b857",
      "52607b7d432648a9b688cfce5059bf0e"
     ]
    },
    "colab_type": "code",
    "executionInfo": {
     "elapsed": 4854,
     "status": "ok",
     "timestamp": 1584233553939,
     "user": {
      "displayName": "Lukas Stephan",
      "photoUrl": "https://lh3.googleusercontent.com/a-/AOh14GioBWVaLUZnXCnDOZorMWKEyF2wML6Ssv5myxIf=s64",
      "userId": "03481974434335764588"
     },
     "user_tz": -60
    },
    "id": "C1y4le9duPjO",
    "outputId": "7e738c19-bcf5-46b1-910a-f91158ae6247"
   },
   "outputs": [],
   "source": [
    "MODELS = (BertForSequenceClassification,       BertTokenizer,       'bert-base-uncased')\n",
    "model_class, tokenizer_class, pretrained_weights = MODELS\n",
    "tokenizer = tokenizer_class.from_pretrained(pretrained_weights, do_lower_case=True)"
   ]
  },
  {
   "cell_type": "code",
   "execution_count": 11,
   "metadata": {
    "colab": {},
    "colab_type": "code",
    "id": "_ClorVgmjKA_"
   },
   "outputs": [],
   "source": [
    "\n",
    "def get_tokens(tokenizer, dataframe):\n",
    "  return dataframe['Description'].apply(lambda desc: \n",
    "                              tokenizer.encode(\n",
    "                                  desc, \n",
    "                                  add_special_tokens=True, \n",
    "                                  max_length=MAX_LEN, \n",
    "                                  pad_to_max_length=True\n",
    "                                  #return_tensors = 'pt'\n",
    "                                  )\n",
    "                              ).to_list()\n",
    "\n",
    "def get_attention_masks(input_ids):\n",
    "  attention_masks = []\n",
    "  for sent in input_ids:\n",
    "    att_mask = [int(token_id > 0) for token_id in sent]\n",
    "    attention_masks.append(att_mask)\n",
    "  return attention_masks\n",
    "\n",
    "\n",
    "train_input_tokens = get_tokens(tokenizer, train_df)\n",
    "validation_input_tokens = get_tokens(tokenizer, validation_df)\n",
    "test_input_tokens = get_tokens(tokenizer, test_df)\n",
    "\n",
    "train_masks = get_attention_masks(train_input_tokens)\n",
    "validation_masks = get_attention_masks(validation_input_tokens)\n",
    "test_masks = get_attention_masks(test_input_tokens)"
   ]
  },
  {
   "cell_type": "code",
   "execution_count": 12,
   "metadata": {},
   "outputs": [
    {
     "name": "stdout",
     "output_type": "stream",
     "text": [
      " Original:  The Spotfire Library component of TIBCO Software Inc.'s TIBCO Spotfire Analytics Platform for AWS Marketplace, and TIBCO Spotfire Server contains a vulnerability that might theoretically fail to restrict users with read-only access from modifying files stored in the Spotfire Library, only when the Spotfire Library is configured to use external storage. Affected releases are TIBCO Software Inc.'s TIBCO Spotfire Analytics Platform for AWS Marketplace versions up to and including 10.0.0, and TIBCO Spotfire Server versions up to and including 7.10.1; 7.11.0; 7.11.1; 7.12.0; 7.13.0; 7.14.0; 10.0.0.\n",
      "Tokenized:  ['the', 'spot', '##fire', 'library', 'component', 'of', 'ti', '##bc', '##o', 'software', 'inc', '.', \"'\", 's', 'ti', '##bc', '##o', 'spot', '##fire', 'analytics', 'platform', 'for', 'aw', '##s', 'marketplace', ',', 'and', 'ti', '##bc', '##o', 'spot', '##fire', 'server', 'contains', 'a', 'vulnerability', 'that', 'might', 'theoretically', 'fail', 'to', 'restrict', 'users', 'with', 'read', '-', 'only', 'access', 'from', 'modifying', 'files', 'stored', 'in', 'the', 'spot', '##fire', 'library', ',', 'only', 'when', 'the', 'spot', '##fire', 'library', 'is', 'configured', 'to', 'use', 'external', 'storage', '.', 'affected', 'releases', 'are', 'ti', '##bc', '##o', 'software', 'inc', '.', \"'\", 's', 'ti', '##bc', '##o', 'spot', '##fire', 'analytics', 'platform', 'for', 'aw', '##s', 'marketplace', 'versions', 'up', 'to', 'and', 'including', '10', '.', '0', '.', '0', ',', 'and', 'ti', '##bc', '##o', 'spot', '##fire', 'server', 'versions', 'up', 'to', 'and', 'including', '7', '.', '10', '.', '1', ';', '7', '.', '11', '.', '0', ';', '7', '.', '11', '.', '1', ';', '7', '.', '12', '.', '0', ';', '7', '.', '13', '.', '0', ';', '7', '.', '14', '.', '0', ';', '10', '.', '0', '.', '0', '.']\n",
      "Token IDs:  [1996, 3962, 10273, 3075, 6922, 1997, 14841, 9818, 2080, 4007, 4297, 1012, 1005, 1055, 14841, 9818, 2080, 3962, 10273, 25095, 4132, 2005, 22091, 2015, 18086, 1010, 1998, 14841, 9818, 2080, 3962, 10273, 8241, 3397, 1037, 18130, 2008, 2453, 22634, 8246, 2000, 21573, 5198, 2007, 3191, 1011, 2069, 3229, 2013, 29226, 6764, 8250, 1999, 1996, 3962, 10273, 3075, 1010, 2069, 2043, 1996, 3962, 10273, 3075, 2003, 26928, 2000, 2224, 6327, 5527, 1012, 5360, 7085, 2024, 14841, 9818, 2080, 4007, 4297, 1012, 1005, 1055, 14841, 9818, 2080, 3962, 10273, 25095, 4132, 2005, 22091, 2015, 18086, 4617, 2039, 2000, 1998, 2164, 2184, 1012, 1014, 1012, 1014, 1010, 1998, 14841, 9818, 2080, 3962, 10273, 8241, 4617, 2039, 2000, 1998, 2164, 1021, 1012, 2184, 1012, 1015, 1025, 1021, 1012, 2340, 1012, 1014, 1025, 1021, 1012, 2340, 1012, 1015, 1025, 1021, 1012, 2260, 1012, 1014, 1025, 1021, 1012, 2410, 1012, 1014, 1025, 1021, 1012, 2403, 1012, 1014, 1025, 2184, 1012, 1014, 1012, 1014, 1012]\n"
     ]
    }
   ],
   "source": [
    "print(' Original: ', train_df[\"Description\"][0])\n",
    "\n",
    "# Print the sentence split into tokens.\n",
    "print('Tokenized: ', tokenizer.tokenize(train_df[\"Description\"][0]))\n",
    "\n",
    "# Print the sentence mapped to token ids.\n",
    "print('Token IDs: ', tokenizer.convert_tokens_to_ids(tokenizer.tokenize(train_df[\"Description\"][0])))"
   ]
  },
  {
   "cell_type": "code",
   "execution_count": 13,
   "metadata": {
    "colab": {},
    "colab_type": "code",
    "id": "zstDUMX_r9W5"
   },
   "outputs": [],
   "source": [
    "train_labels = train_df['CWE-ID'].values\n",
    "validation_labels = validation_df['CWE-ID'].values\n",
    "test_labels = test_df['CWE-ID'].values"
   ]
  },
  {
   "cell_type": "code",
   "execution_count": 14,
   "metadata": {
    "colab": {},
    "colab_type": "code",
    "id": "KBpnbhwXlCli"
   },
   "outputs": [],
   "source": [
    "# Model expects PyTorch tensors, not numpy arrays\n",
    "\n",
    "train_inputs = torch.tensor(train_input_tokens)\n",
    "validation_inputs = torch.tensor(validation_input_tokens)\n",
    "test_inputs = torch.tensor(test_input_tokens)\n",
    "\n",
    "train_labels = torch.tensor(train_labels)\n",
    "validation_labels = torch.tensor(validation_labels)\n",
    "test_labels = torch.tensor(test_labels)\n",
    "\n",
    "train_masks = torch.tensor(train_masks)\n",
    "validation_masks = torch.tensor(validation_masks)\n",
    "test_masks = torch.tensor(test_masks)"
   ]
  },
  {
   "cell_type": "code",
   "execution_count": 15,
   "metadata": {},
   "outputs": [],
   "source": [
    "# Calculate weights\n"
   ]
  },
  {
   "cell_type": "code",
   "execution_count": 16,
   "metadata": {},
   "outputs": [],
   "source": [
    "\n",
    "from sklearn.utils import class_weight\n",
    "import statistics\n",
    "\n",
    "class_weights = class_weight.compute_class_weight('balanced',\n",
    "                                                 np.unique(all_df[\"CWE-ID\"]),\n",
    "                                                 all_df[\"CWE-ID\"])\n",
    "#values = all_df[\"CWE-ID\"].value_counts().values\n",
    "#mean = round(sum(values) / len(values))\n",
    "#print(values)\n",
    "#print(\"Mean: {}\".format(mean))\n",
    "#weights = [round(float(mean) / float(value), 2) for value in values]\n",
    "#print(weights)"
   ]
  },
  {
   "cell_type": "code",
   "execution_count": 17,
   "metadata": {
    "colab": {},
    "colab_type": "code",
    "id": "I0rmlWeZkzkX"
   },
   "outputs": [],
   "source": [
    "from torch.utils.data import TensorDataset, DataLoader, RandomSampler, SequentialSampler, WeightedRandomSampler\n",
    "\n",
    "# `BATCH_SIZE` specified elsewhere\n",
    "# For fine-tuning BERT on a specific task, the authors recommend a batch size of\n",
    "# 16 or 32. Either must be run on 16GB GPU, will crash runtime on anything less\n",
    "\n",
    "# Create the DataLoader for our training set.\n",
    "train_data = TensorDataset(train_inputs, train_masks, train_labels)\n",
    "train_sampler = WeightedRandomSampler(class_weights, num_samples=len(class_weights)) #RandomSampler(train_data)\n",
    "train_dataloader = DataLoader(train_data, sampler=train_sampler, batch_size=BATCH_SIZE)\n",
    "\n",
    "# Create the DataLoader for our validation set.\n",
    "validation_data = TensorDataset(validation_inputs, validation_masks, validation_labels)\n",
    "validation_sampler = SequentialSampler(validation_data)\n",
    "validation_dataloader = DataLoader(validation_data, sampler=validation_sampler, batch_size=BATCH_SIZE)\n",
    "\n",
    "# Create the DataLoader for our test set.\n",
    "test_data = TensorDataset(test_inputs, test_masks, test_labels)\n",
    "test_sampler = SequentialSampler(test_data)\n",
    "test_dataloader = DataLoader(test_data, sampler=test_sampler, batch_size=BATCH_SIZE)"
   ]
  },
  {
   "cell_type": "code",
   "execution_count": 18,
   "metadata": {
    "colab": {
     "base_uri": "https://localhost:8080/",
     "height": 115,
     "referenced_widgets": [
      "96f287cd332d437999a35f0acecbb815",
      "89421b3102464922837c72b24cb2a440",
      "55bc28d75021466d9e71aada1854668f",
      "03ea662ba605432a92dc26d0a28ff1ab",
      "3eaba4150a884a9faf441d94eb3cb30e",
      "ac4a4698a28c4be7976deb72bd505af8",
      "97950f4dcab84e00b5d7c86ed55175fe",
      "57da120472f3496e89904cb1a01da3e4",
      "105715a634d94e45b41960c494a330b1",
      "ad9cc6363b534e31a46dff19fe865fae",
      "210d481d407642bea4bb15ca693f4780",
      "bd11b11a7b56476e8a4dbf462ecb4b8d",
      "8c3bfc17779b491aa624c9a46d4d8c4e",
      "a5ad8695c94d4f08b7f190bf7c6d2385",
      "3bc72c0f4bc24ebb8c1f78b98e4e229a",
      "fc862b9e9f3d4c53a7e3357b0527b113"
     ]
    },
    "colab_type": "code",
    "executionInfo": {
     "elapsed": 52668,
     "status": "ok",
     "timestamp": 1584233834973,
     "user": {
      "displayName": "Lukas Stephan",
      "photoUrl": "https://lh3.googleusercontent.com/a-/AOh14GioBWVaLUZnXCnDOZorMWKEyF2wML6Ssv5myxIf=s64",
      "userId": "03481974434335764588"
     },
     "user_tz": -60
    },
    "id": "Aw8wiIEelkpF",
    "outputId": "e039a80b-61e9-4e0b-c644-4ab5cc126d66"
   },
   "outputs": [],
   "source": [
    "model = model_class.from_pretrained(\n",
    "    pretrained_weights, # Use the 12-layer BERT model, with an uncased vocab.\n",
    "    num_labels = NUM_LABELS, # The number of output labels--2 for binary classification.\n",
    "                    # You can increase this for multi-class tasks.   \n",
    "    output_attentions = False, # Whether the model returns attentions weights.\n",
    "    output_hidden_states = False, # Whether the model returns all hidden-states.\n",
    ")\n",
    "\n",
    "# Tell pytorch to run this model on the GPU.\n",
    "model.cuda()\n",
    "\n",
    "optimizer = AdamW(model.parameters(),\n",
    "                  lr = 2e-5, # args.learning_rate - default is 5e-5\n",
    "                  eps = 1e-8 # args.adam_epsilon  - default is 1e-8.\n",
    "                )\n",
    "\n",
    "\n",
    "# Total number of training steps is number of batches * number of epochs.\n",
    "total_steps = len(train_dataloader) * EPOCHS\n",
    "\n",
    "# Create the learning rate scheduler.\n",
    "scheduler = get_linear_schedule_with_warmup(optimizer, \n",
    "                                            num_warmup_steps = 0, # Default value in run_glue.py\n",
    "                                            num_training_steps = total_steps)"
   ]
  },
  {
   "cell_type": "code",
   "execution_count": 19,
   "metadata": {
    "colab": {},
    "colab_type": "code",
    "id": "7tTYj01Sl3kN"
   },
   "outputs": [],
   "source": [
    "# Function to calculate the accuracy of our predictions vs labels\n",
    "def flat_accuracy(preds, labels):\n",
    "    pred_flat = np.argmax(preds, axis=1).flatten()\n",
    "    labels_flat = labels.flatten()\n",
    "    return np.sum(pred_flat == labels_flat) / len(labels_flat)\n",
    "\n",
    "import time\n",
    "import datetime\n",
    "\n",
    "def format_time(elapsed):\n",
    "    '''\n",
    "    Takes a time in seconds and returns a string hh:mm:ss\n",
    "    '''\n",
    "    # Round to the nearest second.\n",
    "    elapsed_rounded = int(round((elapsed)))\n",
    "    \n",
    "    # Format as hh:mm:ss\n",
    "    return str(datetime.timedelta(seconds=elapsed_rounded))"
   ]
  },
  {
   "cell_type": "code",
   "execution_count": null,
   "metadata": {
    "colab": {
     "base_uri": "https://localhost:8080/",
     "height": 426
    },
    "colab_type": "code",
    "executionInfo": {
     "elapsed": 1606,
     "status": "error",
     "timestamp": 1584233882389,
     "user": {
      "displayName": "Lukas Stephan",
      "photoUrl": "https://lh3.googleusercontent.com/a-/AOh14GioBWVaLUZnXCnDOZorMWKEyF2wML6Ssv5myxIf=s64",
      "userId": "03481974434335764588"
     },
     "user_tz": -60
    },
    "id": "Ay70ECo6mBx9",
    "outputId": "bd79fe0c-210f-421c-fd97-94ee1a27b738"
   },
   "outputs": [
    {
     "name": "stdout",
     "output_type": "stream",
     "text": [
      "\n",
      "======== Epoch 1 / 4 ========\n",
      "Training...\n"
     ]
    },
    {
     "name": "stderr",
     "output_type": "stream",
     "text": [
      "/pytorch/torch/csrc/autograd/generated/python_variable_methods.cpp:1334: UserWarning: This overload of add_ is deprecated:\n",
      "add_(Number alpha, Tensor other)\n",
      "Consider using one of the following signatures instead:\n",
      "add_(Tensor other, Number alpha)\n",
      "/pytorch/torch/csrc/autograd/generated/python_variable_methods.cpp:1550: UserWarning: This overload of addcmul_ is deprecated:\n",
      "addcmul_(Number value, Tensor tensor1, Tensor tensor2)\n",
      "Consider using one of the following signatures instead:\n",
      "addcmul_(Tensor tensor1, Tensor tensor2, Number value)\n",
      "/pytorch/torch/csrc/autograd/generated/python_variable_methods.cpp:1480: UserWarning: This overload of addcdiv_ is deprecated:\n",
      "addcdiv_(Number value, Tensor tensor1, Tensor tensor2)\n",
      "Consider using one of the following signatures instead:\n",
      "addcdiv_(Tensor tensor1, Tensor tensor2, Number value)\n"
     ]
    },
    {
     "name": "stdout",
     "output_type": "stream",
     "text": [
      "\n",
      "  Average training loss: 5.62\n",
      "  Training epoch took: 0:00:12\n",
      "\n",
      "Running Validation...\n",
      "  Accuracy: 0.10\n",
      "  Validation took: 0:02:23\n",
      "\n",
      "======== Epoch 2 / 4 ========\n",
      "Training...\n",
      "\n",
      "  Average training loss: 5.03\n",
      "  Training epoch took: 0:00:12\n",
      "\n",
      "Running Validation...\n",
      "  Accuracy: 0.10\n",
      "  Validation took: 0:02:24\n",
      "\n",
      "======== Epoch 3 / 4 ========\n",
      "Training...\n",
      "\n",
      "  Average training loss: 4.74\n",
      "  Training epoch took: 0:00:12\n",
      "\n",
      "Running Validation...\n",
      "  Accuracy: 0.10\n",
      "  Validation took: 0:02:23\n",
      "\n",
      "======== Epoch 4 / 4 ========\n",
      "Training...\n",
      "\n",
      "  Average training loss: 4.63\n",
      "  Training epoch took: 0:00:12\n",
      "\n",
      "Running Validation...\n"
     ]
    }
   ],
   "source": [
    "import random\n",
    "\n",
    "# This training code is based on the `run_glue.py` script here:\n",
    "# https://github.com/huggingface/transformers/blob/5bfcd0485ece086ebcbed2d008813037968a9e58/examples/run_glue.py#L128\n",
    "\n",
    "# Set the seed value all over the place to make this reproducible.\n",
    "seed_val = random.getrandbits(32) #42\n",
    "\n",
    "random.seed(seed_val)\n",
    "np.random.seed(seed_val)\n",
    "torch.manual_seed(seed_val)\n",
    "torch.cuda.manual_seed_all(seed_val)\n",
    "\n",
    "# Store the average loss after each epoch so we can plot them.\n",
    "loss_values = []\n",
    "\n",
    "for epoch_i in range(0, EPOCHS):\n",
    "    \n",
    "    # ========================================\n",
    "    #               Training\n",
    "    # ========================================\n",
    "    print(\"\")\n",
    "    print('======== Epoch {:} / {:} ========'.format(epoch_i + 1, EPOCHS))\n",
    "    print('Training...')\n",
    "\n",
    "    t0 = time.time()\n",
    "    total_loss = 0 # Reset the total loss for this epoch.\n",
    "    model.train() # Just sets the `mode`, does not perform training\n",
    "\n",
    "    for step, batch in enumerate(train_dataloader):\n",
    "\n",
    "        # Progress update every 40 batches.\n",
    "        if step % 40 == 0 and not step == 0:\n",
    "            elapsed = format_time(time.time() - t0)\n",
    "            print('  Batch {:>5,}  of  {:>5,}.    Elapsed: {:}.'.format(step, len(train_dataloader), elapsed))\n",
    "\n",
    "        # `batch` contains three pytorch tensors:\n",
    "        #   [0]: input ids \n",
    "        #   [1]: attention masks\n",
    "        #   [2]: labels \n",
    "        b_input_ids = batch[0].to(device)\n",
    "        b_input_mask = batch[1].to(device)\n",
    "        b_labels = batch[2].to(device)\n",
    "\n",
    "        model.zero_grad() # Always clear any previously calculated gradients before performing a backward pass. Not automatic with PyTorch\n",
    "\n",
    "        # Perform a forward pass (evaluate the model on this training batch).\n",
    "        # This will return the loss (rather than the model output) because we\n",
    "        outputs = model(b_input_ids, \n",
    "                    token_type_ids=None, \n",
    "                    attention_mask=b_input_mask, \n",
    "                    labels=b_labels)\n",
    "        \n",
    "        loss = outputs[0] # Pull loss value out of the tuple\n",
    "\n",
    "        total_loss += loss.item() # For average loss calculation at the end\n",
    "\n",
    "        \n",
    "        loss.backward() # Perform a backward pass to calculate the gradients.\n",
    "        torch.nn.utils.clip_grad_norm_(model.parameters(), 1.0) # Prevent exploding gradients\n",
    "\n",
    "        optimizer.step() # Take a step with the new gradients\n",
    "\n",
    "        scheduler.step() # Update the learning rate\n",
    "\n",
    "    avg_train_loss = total_loss / len(train_dataloader) # Calculate the average loss over the training data.         \n",
    "    loss_values.append(avg_train_loss)\n",
    "\n",
    "    print(\"\")\n",
    "    print(\"  Average training loss: {0:.2f}\".format(avg_train_loss))\n",
    "    print(\"  Training epoch took: {:}\".format(format_time(time.time() - t0)))\n",
    "        \n",
    "    # ========================================\n",
    "    #               Validation\n",
    "    # ========================================\n",
    "\n",
    "    print(\"\")\n",
    "    print(\"Running Validation...\")\n",
    "\n",
    "    t0 = time.time()\n",
    "    model.eval() # Evaluation mode. Dropout layers behave differently\n",
    "\n",
    "    # Tracking variables \n",
    "    eval_loss, eval_accuracy = 0, 0\n",
    "    nb_eval_steps, nb_eval_examples = 0, 0\n",
    "\n",
    "    # Evaluate data for one epoch\n",
    "    for batch in validation_dataloader:\n",
    "        batch = tuple(t.to(device) for t in batch)\n",
    "        \n",
    "        b_input_ids, b_input_mask, b_labels = batch\n",
    "        \n",
    "        with torch.no_grad():        \n",
    "            outputs = model(b_input_ids, \n",
    "                            token_type_ids=None, \n",
    "                            attention_mask=b_input_mask)\n",
    "        \n",
    "        # Get the \"logits\" output by the model. The \"logits\" are the output\n",
    "        # values prior to applying an activation function like the softmax.\n",
    "        logits = outputs[0]\n",
    "        logits = logits.detach().cpu().numpy()\n",
    "        label_ids = b_labels.to('cpu').numpy()\n",
    "\n",
    "        tmp_eval_accuracy = flat_accuracy(logits, label_ids) # Calculate the accuracy for this batch of test sentences.\n",
    "        \n",
    "        eval_accuracy += tmp_eval_accuracy  # Accumulate the total accuracy.\n",
    "        nb_eval_steps += 1 # Track the number of batches\n",
    "\n",
    "    # Report the final accuracy for this validation run.\n",
    "    print(\"  Accuracy: {0:.2f}\".format(eval_accuracy/nb_eval_steps))\n",
    "    print(\"  Validation took: {:}\".format(format_time(time.time() - t0)))\n",
    "\n",
    "print(\"\")\n",
    "print(\"Training complete!\")"
   ]
  },
  {
   "cell_type": "code",
   "execution_count": 87,
   "metadata": {
    "colab": {},
    "colab_type": "code",
    "id": "5NuBjMLimIxp"
   },
   "outputs": [
    {
     "name": "stdout",
     "output_type": "stream",
     "text": [
      "Saving model to ../Models/ModelV2/ModelBase/Weighted_Sampling/\n"
     ]
    },
    {
     "data": {
      "text/plain": [
       "('../Models/ModelV2/ModelBase/Weighted_Sampling/vocab.txt',\n",
       " '../Models/ModelV2/ModelBase/Weighted_Sampling/special_tokens_map.json',\n",
       " '../Models/ModelV2/ModelBase/Weighted_Sampling/added_tokens.json')"
      ]
     },
     "execution_count": 87,
     "metadata": {},
     "output_type": "execute_result"
    }
   ],
   "source": [
    "import os\n",
    "\n",
    "# Saving best-practices: if you use defaults names for the model, you can reload it using from_pretrained()\n",
    "\n",
    "output_dir = '../Models/ModelV2/ModelBase/Weighted_Sampling/'\n",
    "\n",
    "# Create output directory if needed\n",
    "if not os.path.exists(output_dir):\n",
    "    os.makedirs(output_dir)\n",
    "\n",
    "print(\"Saving model to %s\" % output_dir)\n",
    "\n",
    "# Save a trained model, configuration and tokenizer using `save_pretrained()`.\n",
    "# They can then be reloaded using `from_pretrained()`\n",
    "model_to_save = model.module if hasattr(model, 'module') else model  # Take care of distributed/parallel training\n",
    "model_to_save.save_pretrained(output_dir)\n",
    "tokenizer.save_pretrained(output_dir)"
   ]
  },
  {
   "cell_type": "code",
   "execution_count": 88,
   "metadata": {
    "colab": {},
    "colab_type": "code",
    "id": "MdbmuiAZmVRC"
   },
   "outputs": [],
   "source": [
    "# Testing"
   ]
  },
  {
   "cell_type": "code",
   "execution_count": null,
   "metadata": {
    "colab": {},
    "colab_type": "code",
    "id": "E9beXwZgoEre"
   },
   "outputs": [],
   "source": []
  },
  {
   "cell_type": "code",
   "execution_count": 89,
   "metadata": {
    "colab": {},
    "colab_type": "code",
    "id": "2jVJsJEgrwBy"
   },
   "outputs": [
    {
     "name": "stdout",
     "output_type": "stream",
     "text": [
      "Predicting labels for 14,367 test sentences...\n"
     ]
    }
   ],
   "source": [
    "# Prediction on test set\n",
    "\n",
    "print('Predicting labels for {:,} test sentences...'.format(len(test_inputs)))\n",
    "\n",
    "# Put model in evaluation mode\n",
    "model.eval()\n",
    "\n",
    "# Tracking variables \n",
    "predictions , true_labels = [], []\n",
    "\n",
    "# Predict \n",
    "for batch in test_dataloader:\n",
    "  # Add batch to GPU\n",
    "  batch = tuple(t.to(device) for t in batch)\n",
    "  \n",
    "  # Unpack the inputs from our dataloader\n",
    "  b_input_ids, b_input_mask, b_labels = batch\n",
    "  \n",
    "  # Telling the model not to compute or store gradients, saving memory and \n",
    "  # speeding up prediction\n",
    "  with torch.no_grad():\n",
    "      # Forward pass, calculate logit predictions\n",
    "      outputs = model(b_input_ids, token_type_ids=None, \n",
    "                      attention_mask=b_input_mask)\n",
    "\n",
    "  logits = outputs[0]\n",
    "\n",
    "  # Move logits and labels to CPU\n",
    "  logits = logits.detach().cpu().numpy()\n",
    "  label_ids = b_labels.to('cpu').numpy()\n",
    "  \n",
    "  # Store predictions and true labels\n",
    "  predictions.append(logits)\n",
    "  true_labels.append(label_ids)"
   ]
  },
  {
   "cell_type": "code",
   "execution_count": 90,
   "metadata": {},
   "outputs": [],
   "source": [
    "prediction_values = [prediction.argmax() for prediction in predictions]"
   ]
  },
  {
   "cell_type": "code",
   "execution_count": null,
   "metadata": {},
   "outputs": [],
   "source": []
  },
  {
   "cell_type": "code",
   "execution_count": 91,
   "metadata": {},
   "outputs": [
    {
     "name": "stdout",
     "output_type": "stream",
     "text": [
      "Predicted 6663 / 14367 0.463771142200877 correctly\n"
     ]
    }
   ],
   "source": [
    "prediction_values, true_values = [], []\n",
    "for batch in predictions:\n",
    "    for prediction in batch:\n",
    "        prediction_values.append(prediction.argmax())\n",
    "\n",
    "for batch in true_labels:\n",
    "    for true_value in batch:\n",
    "        true_values.append(true_value)\n",
    "\n",
    "count = 0\n",
    "for prediction, true_label in zip(prediction_values, true_values):\n",
    "    if prediction == true_label:\n",
    "        count+=1\n",
    "\n",
    "print(\"Predicted {} / {} {} correctly\".format(count, len(prediction_values), float(count) / float(len(prediction_values))))"
   ]
  },
  {
   "cell_type": "markdown",
   "metadata": {},
   "source": [
    "# Experimentation"
   ]
  },
  {
   "cell_type": "code",
   "execution_count": 92,
   "metadata": {},
   "outputs": [],
   "source": [
    "model_dir = '../Models/ModelV2/ModelBase/Weighted_Sampling/'\n",
    "model = model_class.from_pretrained(model_dir)\n",
    "tokenizer = tokenizer_class.from_pretrained(model_dir)"
   ]
  },
  {
   "cell_type": "code",
   "execution_count": 93,
   "metadata": {},
   "outputs": [
    {
     "data": {
      "text/plain": [
       "'Credentials Management Errors'"
      ]
     },
     "execution_count": 93,
     "metadata": {},
     "output_type": "execute_result"
    }
   ],
   "source": [
    "cwe_lookup_table = pd.read_csv(\"../datasets/cwe-lookup-table.csv\",index_col=False)\n",
    "\n",
    "cwe_lookup_table.loc[cwe_lookup_table['CWE-ID'] == 255][\"Description\"].values[0]"
   ]
  },
  {
   "cell_type": "code",
   "execution_count": 94,
   "metadata": {},
   "outputs": [],
   "source": [
    "def predict(model, sentence, lookup_table):\n",
    "  # Drop into evaluation mode\n",
    "  model.eval()\n",
    "\n",
    "  # Send model to the CPU\n",
    "  model.cpu()\n",
    "\n",
    "  # Tokenize the provided text\n",
    "  # TODO: Tokenizer global at the moment, change that\n",
    "  encoded_sent = tokenizer.encode(sentence, add_special_tokens=True, max_length=MAX_LEN, pad_to_max_length=True)\n",
    "  attention_mask = [int(token_id > 0) for token_id in encoded_sent]\n",
    "\n",
    "  # 1x512 tensor\n",
    "  sent_tensor = torch.tensor([encoded_sent])\n",
    "  attn_tensor = torch.tensor([attention_mask])\n",
    "\n",
    "  # Speeds up calc when gradients don't need to be calculated\n",
    "  with torch.no_grad():\n",
    "      # Forward pass, calculate logit predictions\n",
    "      # TODO: Why no softmax output??\n",
    "      outputs = model(sent_tensor, token_type_ids=None, \n",
    "                      attention_mask=attn_tensor)\n",
    "      logits = outputs[0]\n",
    "\n",
    "  # Move logits and labels to CPU\n",
    "  logits = logits.detach().cpu().numpy()\n",
    "  #print(logits)\n",
    "  prediction = logits.argmax()\n",
    "  # `lookup_table` holds mapping of labels to CWEs.\n",
    "  # TODO: Save the lookup table alongside model weights\n",
    "  for k,v in lookup_table.items():\n",
    "    if v == prediction:\n",
    "      cwe = k\n",
    "      break\n",
    "  try:\n",
    "    # Not all CWEs present in the lookup table (mainly 'CWE CATEGORIES' which are missing)\n",
    "    # TODO: Extract CWEs for master XML spec, not CSVs - DONE\n",
    "    # TODO: Generate additional training data from CWE spec. At least 3 cases for each CWE can be created with 'Description',\n",
    "    #         'Extended Description', and 'Background Detail', possibly more - DONE\n",
    "    # \n",
    "    description = cwe_lookup_table.loc[cwe_lookup_table['CWE-ID'] == cwe][\"Description\"].values[0]\n",
    "  except:\n",
    "    description = \"💩\"\n",
    "\n",
    "  print(\"Input: {}\\n\\tPredicted CWE: {}: {}, Prob: {}\".format(sentence, cwe, description, prediction))"
   ]
  },
  {
   "cell_type": "code",
   "execution_count": 95,
   "metadata": {},
   "outputs": [
    {
     "name": "stdout",
     "output_type": "stream",
     "text": [
      "Input: The app accepts a user controlled serialized object\n",
      "\tPredicted CWE: 200: Exposure of Sensitive Information to an Unauthorized Actor, Prob: 99\n",
      "Input: Site deserializes client side object\n",
      "\tPredicted CWE: 204: Observable Response Discrepancy, Prob: 101\n",
      "Input: There is no database parameterization\n",
      "\tPredicted CWE: 22: Improper Limitation of a Pathname to a Restricted Directory ('Path Traversal'), Prob: 5\n",
      "Input: There is insufficient validation of the 'id' parameter when used with SQL statement\n",
      "\tPredicted CWE: 89: Improper Neutralization of Special Elements used in an SQL Command ('SQL Injection'), Prob: 43\n",
      "Input: One user can access another's messages\n",
      "\tPredicted CWE: 200: Exposure of Sensitive Information to an Unauthorized Actor, Prob: 99\n",
      "Input: An attacker can spoof someone else's access token. Ruh roh. \n",
      "\tPredicted CWE: 327: Use of a Broken or Risky Cryptographic Algorithm, Prob: 169\n",
      "Input: There's no bounds checking on the input buffer\n",
      "\tPredicted CWE: 119: Improper Restriction of Operations within the Bounds of a Memory Buffer, Prob: 56\n",
      "Input: Passwords are stored clear text\n",
      "\tPredicted CWE: 200: Exposure of Sensitive Information to an Unauthorized Actor, Prob: 99\n"
     ]
    }
   ],
   "source": [
    "predict(model, \"The app accepts a user controlled serialized object\", lookup_table)\n",
    "predict(model, \"Site deserializes client side object\", lookup_table)\n",
    "predict(model, \"There is no database parameterization\", lookup_table)\n",
    "predict(model, \"There is insufficient validation of the 'id' parameter when used with SQL statement\", lookup_table)\n",
    "predict(model, \"One user can access another's messages\", lookup_table)\n",
    "predict(model, \"An attacker can spoof someone else's access token. Ruh roh. \", lookup_table)\n",
    "predict(model, \"There's no bounds checking on the input buffer\", lookup_table)\n",
    "predict(model, \"Passwords are stored clear text\", lookup_table)"
   ]
  },
  {
   "cell_type": "code",
   "execution_count": 96,
   "metadata": {},
   "outputs": [
    {
     "name": "stdout",
     "output_type": "stream",
     "text": [
      "Input: ip whitelisting is not in place\n",
      "\tPredicted CWE: 459: Incomplete Cleanup, Prob: 235\n",
      "Input: No https\n",
      "\tPredicted CWE: 187: Partial String Comparison, Prob: 90\n",
      "Input: No tls\n",
      "\tPredicted CWE: 911: Improper Update of Reference Count, Prob: 349\n",
      "Input: no hardware R/X protections\n",
      "\tPredicted CWE: 20: Improper Input Validation, Prob: 4\n",
      "Input: httponly flag isnt set\n",
      "\tPredicted CWE: 772: Missing Release of Resource after Effective Lifetime, Prob: 309\n",
      "Input: There is no ASLR IN PLACE\n",
      "\tPredicted CWE: 434: Unrestricted Upload of File with Dangerous Type, Prob: 223\n",
      "Input: site is getting DDoSd\n",
      "\tPredicted CWE: 434: Unrestricted Upload of File with Dangerous Type, Prob: 223\n"
     ]
    }
   ],
   "source": [
    "# Model fails hard\n",
    "predict(model, \"ip whitelisting is not in place\", lookup_table)\n",
    "predict(model, \"No https\", lookup_table)\n",
    "predict(model, \"No tls\", lookup_table)\n",
    "predict(model, \"no hardware R/X protections\", lookup_table)\n",
    "predict(model, \"httponly flag isnt set\", lookup_table)\n",
    "predict(model, \"There is no ASLR IN PLACE\", lookup_table)\n",
    "predict(model, \"site is getting DDoSd\", lookup_table)"
   ]
  },
  {
   "cell_type": "code",
   "execution_count": 97,
   "metadata": {},
   "outputs": [
    {
     "name": "stdout",
     "output_type": "stream",
     "text": [
      "Input: function protection inadequate\n",
      "\tPredicted CWE: 327: Use of a Broken or Risky Cryptographic Algorithm, Prob: 169\n"
     ]
    }
   ],
   "source": [
    "predict(model, \"function protection inadequate\", lookup_table)"
   ]
  },
  {
   "cell_type": "code",
   "execution_count": 98,
   "metadata": {},
   "outputs": [
    {
     "name": "stdout",
     "output_type": "stream",
     "text": [
      "Input: Router admin interface has default credentials\n",
      "\tPredicted CWE: 74: Improper Neutralization of Special Elements in Output Used by a Downstream Component ('Injection'), Prob: 32\n",
      "Input: Our stored passwords will live for all eternity\n",
      "\tPredicted CWE: 255: Credentials Management Errors, Prob: 122\n",
      "Input: full disk encryption is not present\n",
      "\tPredicted CWE: 200: Exposure of Sensitive Information to an Unauthorized Actor, Prob: 99\n",
      "Input: seed is not random\n",
      "\tPredicted CWE: 187: Partial String Comparison, Prob: 90\n",
      "Input: Credentials are just flying around unencrypted\n",
      "\tPredicted CWE: 295: Improper Certificate Validation, Prob: 147\n",
      "Input: Credentials are just flying?\n",
      "\tPredicted CWE: 312: Cleartext Storage of Sensitive Information, Prob: 160\n",
      "Input: passwords are just flying around unencrypted\n",
      "\tPredicted CWE: 255: Credentials Management Errors, Prob: 122\n",
      "\n",
      "Semantics\n",
      "Input: personal info exposed by misconfigured S3 bucket\n",
      "\tPredicted CWE: 200: Exposure of Sensitive Information to an Unauthorized Actor, Prob: 99\n",
      "Input: info (PII) leaked through improperly configured object storage\n",
      "\tPredicted CWE: 327: Use of a Broken or Risky Cryptographic Algorithm, Prob: 169\n",
      "Input: bad guy stole stuff\n",
      "\tPredicted CWE: 754: Improper Check for Unusual or Exceptional Conditions, Prob: 302\n",
      "Input: data breach of user personal data\n",
      "\tPredicted CWE: 200: Exposure of Sensitive Information to an Unauthorized Actor, Prob: 99\n"
     ]
    }
   ],
   "source": [
    "predict(model, \"Router admin interface has default credentials\", lookup_table)\n",
    "predict(model, \"Our stored passwords will live for all eternity\", lookup_table)\n",
    "predict(model, \"full disk encryption is not present\", lookup_table)\n",
    "predict(model, \"seed is not random\", lookup_table)\n",
    "predict(model, \"Credentials are just flying around unencrypted\", lookup_table)\n",
    "predict(model, \"Credentials are just flying?\", lookup_table)\n",
    "predict(model, \"passwords are just flying around unencrypted\", lookup_table)\n",
    "\n",
    "\n",
    "\n",
    "# Illustrate semantic variety\n",
    "print(\"\\nSemantics\")\n",
    "predict(model, \"personal info exposed by misconfigured S3 bucket\", lookup_table)\n",
    "predict(model, \"info (PII) leaked through improperly configured object storage\", lookup_table)\n",
    "predict(model, \"bad guy stole stuff\", lookup_table)\n",
    "predict(model, \"data breach of user personal data\", lookup_table) # Maps incorrectly"
   ]
  },
  {
   "cell_type": "code",
   "execution_count": 99,
   "metadata": {},
   "outputs": [
    {
     "name": "stdout",
     "output_type": "stream",
     "text": [
      "Input: SSRF in Sofort's merchant portal, via notification webhook\n",
      "\tPredicted CWE: 200: Exposure of Sensitive Information to an Unauthorized Actor, Prob: 99\n",
      "Input: IDOR in POST /api/settings/PN01964/authentication-email/596/generate-token Allows Attacker to Generate Support Tokens for Other Accounts, Expose Email\n",
      "\tPredicted CWE: 200: Exposure of Sensitive Information to an Unauthorized Actor, Prob: 99\n",
      "Input: [MyDevelopment] XXE processing in SCORM files\n",
      "\tPredicted CWE: 611: Improper Restriction of XML External Entity Reference, Prob: 257\n",
      "Input: Reflected XSS vulnerability on www.sofort.com, via multipay/wait\n",
      "\tPredicted CWE: 79: Improper Neutralization of Input During Web Page Generation ('Cross-site Scripting'), Prob: 35\n"
     ]
    }
   ],
   "source": [
    "predict(model, \"SSRF in Sofort's merchant portal, via notification webhook\", lookup_table)\n",
    "predict(model, \"IDOR in POST /api/settings/PN01964/authentication-email/596/generate-token Allows Attacker to Generate Support Tokens for Other Accounts, Expose Email\", lookup_table)\n",
    "predict(model, \"[MyDevelopment] XXE processing in SCORM files\", lookup_table)\n",
    "predict(model, \"Reflected XSS vulnerability on www.sofort.com, via multipay/wait\", lookup_table)"
   ]
  },
  {
   "cell_type": "code",
   "execution_count": 100,
   "metadata": {},
   "outputs": [
    {
     "name": "stdout",
     "output_type": "stream",
     "text": [
      "Input: an attacker can execute remote shell commands\n",
      "\tPredicted CWE: 787: Out-of-bounds Write, Prob: 319\n"
     ]
    }
   ],
   "source": [
    "predict(model, \"an attacker can execute remote shell commands\", lookup_table)"
   ]
  },
  {
   "cell_type": "code",
   "execution_count": 101,
   "metadata": {},
   "outputs": [
    {
     "name": "stdout",
     "output_type": "stream",
     "text": [
      "Input: AWS Metadata is exposed\n",
      "\tPredicted CWE: 200: Exposure of Sensitive Information to an Unauthorized Actor, Prob: 99\n",
      "Input: User supplied request sent to arbitrary destination\n",
      "\tPredicted CWE: 187: Partial String Comparison, Prob: 90\n",
      "Input: JWT is not verified\n",
      "\tPredicted CWE: 327: Use of a Broken or Risky Cryptographic Algorithm, Prob: 169\n",
      "Input: CBC mode ciphers are enabled\n",
      "\tPredicted CWE: 772: Missing Release of Resource after Effective Lifetime, Prob: 309\n",
      "Input: MD5 is used to hash passwords\n",
      "\tPredicted CWE: 200: Exposure of Sensitive Information to an Unauthorized Actor, Prob: 99\n",
      "Input: Insecure initialization vector usage\n",
      "\tPredicted CWE: 254: 7PK - Security Features, Prob: 121\n"
     ]
    }
   ],
   "source": [
    "predict(model, \"AWS Metadata is exposed\", lookup_table)\n",
    "predict(model, \"User supplied request sent to arbitrary destination\", lookup_table)\n",
    "predict(model, \"JWT is not verified\", lookup_table)\n",
    "predict(model, \"CBC mode ciphers are enabled\", lookup_table)\n",
    "predict(model, \"MD5 is used to hash passwords\", lookup_table)\n",
    "predict(model, \"Insecure initialization vector usage\", lookup_table)"
   ]
  },
  {
   "cell_type": "code",
   "execution_count": null,
   "metadata": {},
   "outputs": [],
   "source": []
  },
  {
   "cell_type": "code",
   "execution_count": 90,
   "metadata": {},
   "outputs": [
    {
     "data": {
      "text/plain": [
       "75"
      ]
     },
     "execution_count": 90,
     "metadata": {},
     "output_type": "execute_result"
    }
   ],
   "source": [
    "lookup_table[158]"
   ]
  },
  {
   "cell_type": "code",
   "execution_count": 48,
   "metadata": {},
   "outputs": [],
   "source": [
    "words = [\"xss\", \"sqli\", \"httponly\", \"http\", \"csrf\", \"crlf\", \"html\",\"exec\", \"eval\", \"null\", \"nul\", \"user\", \"tls\", \"https\",\"aslr\", \"jwt\", \"aws\", \"idor\", \"ddos\", \"overflow\", \"md5\", \"aes\", \"pkcs\", \"json\",\"dtd\", \"dns\", \"ecc\", \"ftp\", \"sftp\", \"ssh\",\n",
    "\"udp\", \"tcp\", \"firewall\", \"fde\", \"dep\", \"dep\", \"hmac\", \"xhtml\", \"xmp\", \"icmp\", \"imap\", \"pop3\", \"auth\", \"ipsec\", \"kerberos\",\n",
    "\"ldap\", \"l2tp\", \"l2f\", \"lkm\", \"ospf\", \"pap\", \"psn\", \"ppp\", \"pptp\", \"perl\",\"c++\",\"c#\", \"php\", \"pgp\", \"pki\", \"pfs\", \"arp\",\n",
    "\"rarp\", \"rsa\", \"rsbac\", \"rbac\", \"rpc\", \"smime\", \"s/mime\", \"ssl\", \"acl\", \"sso\", \"soc\", \"steganography\", \"subnet\", \"syn\",\n",
    "\"ack\", \"saml\", \"snmp\", \"telnet\", \"uri\", \"url\", \"vpn\", \"whois\", \"wep\", \"wap\", \"wpa\", \"wpa2\", \"x500\", \"X.500\", \"gcm\", \"spoof\", \"asn\",\n",
    "\"blacklist\", \"whitelist\", \"ecb\", \"ccm\", \"crl\", \"checksum\", \"dmz\", \"dtls\", \"dmarc\", \"spf\", \"dkim\", \"dn\", \"egress\", \n",
    "\"ingress\", \"txt\", \"csv\", \".tsv\", \".doc\", \".docx\", \"fips\", \"honeypot\", \"webdav\", \"oauth\", \"smb\", \"powershell\", \"chroot\",\n",
    "\"selinux\", \"ipsec\", \"kdc\", \"kek\", \"mitm\", \"phish\", \"rfid\", \"rng\", \"rijndael\", \"scada\", \"openid\", \"dmz\", \"ssm\", \"sdlc\",\n",
    "\"tpm\", \"vm\", \"wap\", \"wlan\", \"x509\", \"x.509\", \"ack\", \"bgp\", \"cgi\", \"chap\", \"mschap\", \"ttls\", \"crc\", \"dsa\", \"dss\",\n",
    "\"underflow\", \"duplex\", \"csrf\", \"cswsh\", \"sqli\", \"sql\", \"nosql\", \"iframe\", \"div\", \"hyperlink\", \"xinetd\", \"systemd\", \"l2f\",\n",
    "\"lkm\", \"loopback\",\"multicast\",\"multihome\",\"multiplex\", \"nat\", \"%00\", \"octet\", \"ipv4\", \"ipv6\", \"osi\", \"x400\",\"x.400\", \"overload\",\n",
    "\"polymorphism\", \"polyinstantiation\", \"pfs\",\"rfc\",\"skey\",\"s/key\", \"tcpdump\", \"wireshark\", \"jquery\", \"f5\", \"redirect\",\n",
    "\"aead\", \"ctr\", \"ansi\", \"asic\", \"apu\", \"amd\", \"nvidia\", \"gpu\", \"asn\", \"asn.1\", \"ext\", \"ext3\", \"ext4\", \"fat32\", \"macos\",\n",
    " \"bsd\", \"openbsd\", \"freebsd\", \"axfr\", \"bios\", \"b2b\", \"baseline\", \"u2f\", \"2fa\", \"gigabyte\", \"megabyte\", \"terabyte\", \"bruteforce\",\n",
    "\"bytewise\", \"xor\", \"captcha\", \"s3\", \"aws\", \"gcp\", \"tld\", \"homoglyph\",\"webex\", \"ascii\",\"cdrom\",\"bootrom\",\"bootloader\", \"cert\",\n",
    "\"dacl\", \"r/o\", \"dhcp\", \"cms\", \"microsoft\", \"powerpoint\", \"vbscript\", \"dll\", \"dylib\", \"osx\", \"eapol\", \"eap\", \"ecdsa\", \n",
    "\"ecdhe\", \"eeprom\", \"efi\", \"efs\", \"zfs\", \"gsm\", \"cdma\", \"ss6\", \"bitmap\",\"ss7\", \"ext2fs\", \"ext3fs\", \"fqdn\", \"whitespace\", \"gdi\", \"bitmap\",\n",
    "\"gigaherz\", \"megaherz\", \"ghz\", \"mhz\", \"gps\", \"gpg\", \"gnupg\", \"gnu\", \"cdma\", \"guid\", \"uuid\", \"rpc\", \"golang\", \"hfs\", \"apfs\",\n",
    "\"rootkit\", \"bootkit\", \"hklm\", \"ntlm\", \"ntlmv2\", \"mimikatz\", \"i2c\", \"ics\", \"siemens\", \"bosch\", \"idp\", \"isp\", \"asn\", \"caml\",\n",
    "\"ocaml\", \"haskell\", \"javascript\", \"ecma\", \"ecmascript\", \"ecmav6\", \"ppt\", \"pptx\", \"xls\", \"xpath\", \"srng\", \"wsl\", \"imsi\",\n",
    "\"paas\", \"iaas\", \"saas\", \"irc\", \"isatap\", \"iso\", \"iot\", \"ios\", \"javaee\", \"springboot\", \"ror\", \"jsp\", \"tomcat\", \"solr\", \n",
    "\"kafka\", \"nginx\", \"openssh\", \"openssl\", \"libressl\", \"jit\", \"jose\", \"jwe\", \"jwks\", \"jtag\", \"jvm\", \"scala\", \"erlang\", \n",
    "\"kdc\", \"ami\", \"reiserfs\", \"ibm\", \"coldfusion\", \"citrix\", \"xfs\", \"fat16\", \"usb\", \"sd\", \"sdcard\", \"hfs\", \"udf\", \"mysql\", \n",
    "\"postgres\", \"postgresql\", \"mariadb\", \"mongodb\", \"rds\", \"elasticsearch\", \"nss\", \"squashfs\", \"exfat\", \"ntfs\", \"minix\",\n",
    "\"led\", \"lua\", \"nmap\", \"emacs\", \"vim\", \".so\", \"asm\", \"x86\", \"x64\", \"x86-64\", \"x86_64\", \"mips\", \"arm64\", \"lxc\", \"samsung\", \"sandisk\",\n",
    "\"seagate\", \"mta\", \"mua\", \"user-agent\", \"hsts\", \"mbps\", \"mitma\", \"mmc\", \"mms\", \"sms\",\n",
    "\"ms-chap\", \"ms-chapv2\", \"msdos\", \"ms-dos\", \"mimo\", \"lifo\", \"fifo\", \"dereference\", \"nas\", \"nat\", \"netbios\", \"nic\", \"nfs\",\n",
    "\"nist\", \"nsa\", \"oid\", \"ole\", \"ocsp\", \"oem\", \"ofb\", \"otp\", \"openpgp\", \"xmpp\", \"cisco\", \"huawei\", \"opm\", \"osi\", \"otp\", \n",
    "\"owasp\", \"dsl\", \"vlan\", \"voip\", \"telephony\", \"mpls\", \"appletalk\", \"applescript\", \"xerox\", \"iscsi\", \"socks4\", \"socks5\", \n",
    "\"localhost\", \"zip\", \"7zip\", \"pzip\", \"lzma\", \"tgz\", \"tftp\", \"ampq\", \"upnp\", \"ibm\", \"toshiba\", \"ssdp\", \"p2p\", \"afp\", \n",
    "\"pac\", \"paravirutalization\", \"parameterization\", \"parity\", \"pdf\", \"pdf\", \"piv\", \"phar\", \"php6\", \"nodejs\", \"jose\", \n",
    "\"expressjs\", \"plist\", \"plist\", 'pseudorandom', \"pub\", \"pki\", \"mobi\", \"scorm\", \"ptt\", \"puk\", \"qemu\", \"qos\", \"vmware\",\n",
    "\"hyper-v\", \"r/w\", \"rc4\", \"rc5\", \"rdms\", \"rdbms\", \"sqlserver\", \"redis\", \"memcached\", \"hbase\", \"olap\", \"malware\", \n",
    "\"adware\", \"scp\", \"sctp\", \"sla\", \"siem\", \"soc\", \"spam\", \"ssd\", \"nvme\", \"firmware\", \"smm\", \"tacacs\", \"tftp\", 'uart',\n",
    "\"uefi\", \"grub\", \"timestamp\", \"datetime\", \"vdi\", \"virtualbox\", \"emulator\", \"lte\", \"4g\", \"5g\", \"3g\", \"vxlan\", \"vrrp\", \"vnic\",\n",
    "\"wsdl\", \"wifi\", \"wimax\", \"win2k\", \"www\", \"xquery\", \"xsl\", \"xslt\", \"css\", \"stylesheet\", \"api\", \"adobe\", \"firefox\", \"esr\",\n",
    "\"chromium\", \"ssi\", \"ssrf\", \"ssri\", \"clickjacking\", \"ubuntu\", \"centos\", \"gentoo\", \"xxe\", \"dtd\", \"gdi\", \"wsus\", \"npm\", \n",
    "\"github\", \"git\", \"svn\", \"iphone\", \"vma\", \"vga\", \"hdmi\", \"dvi\", \"dma\", \"qualcomm\", \"broadcomm\", \"mmc\", \"chipset\",\n",
    "\"xbox\", \"playstation\", \"tomcat\", \"servlet\", \"asp\", \"aspx\", \"asp.net\", \"oop\", \"activedirectory\", \"pth\", \"winxp\", \"xp\", \"sid\",\n",
    "\"krbtgt\", \"msvcrt\", \"lsa\", \"punycode\", \"utf\", \"utf7\", \"utf8\", \"utf-7\", \"utf-8\", \"bitwise\", \".jsp\", \"regex\", \"redos\", \"float32\",\n",
    "\"float64\", \"typecast\", \"typecasting\", \"printf\", \"sprintf\", \"fprintf\", \"filename\", \"off-by-one\", \"0x00\", \"0xff\", \"16bit\",\n",
    "\"32bit\", \"64bit\", \"16-bit\", \"32-bit\", \"64-bit\", \"endian\", \"dereference\", \"dereferencing\", \"ioctl\", \"ttl\", \"tcp/ip\", \"xwindow\",\n",
    "\"infoleak\", \"fingerprint\", \"pwd\", \"sidechannel\", \"hardening\",\"regexp\", \"debug\", \"upload\", \"coldfusion\",\n",
    " \"netscaler\", \"lifecycle\", \"joomla\",\"wordpress\",\"libxml\",\"tiff\",\"jpg\",\"jpeg\",\"svg\",\"gif\",\"fortinet\", \"esxi\", \"uaf\", \"use-after-free\",\n",
    " \"sp1\", \"sp2\",\"lnk\", \"samsung\", \"nokia\",\"motorola\", \"gnutls\",\"cors\",\"crm\",\"drupal\",\"lfi\",\"rfi\", \"malloc\", \"rhel\", \"sharepoint\",\n",
    " \"uxss\",\"symlink\", \"hardlink\", \"sdk\",\"jre\",\"openstack\", \"rabbitmq\", \"docker\", \"exif\", \"quicktime\", \"vlc\", \"webex\",\n",
    " \"phantomjs\", \"ide\", \"apparmor\", \"realnetworks\", \"lxd\", \"netflow\", \"jscript\", \"jira\", \"gitlab\", \"github\", \"openshift\",\n",
    " \"mkd\", \"openoffice\",\"x-frame-options\", \"x-xss-protection\", \"x-content-type-options\", \"csp\", \"content-security-policy\",\n",
    " \"referrer-policy\", \"expect-ct\", \"x-permitted-cross-domain-policy\", \"hpkp\", \"strict-transport-security\", \"nosniff\",\n",
    " \"cdn\",\"cache-control\", \"access-control-allow-origin\", \"public-key-pins\", \"public-key-pins-report-only\", \"report-uri\",\n",
    " \"includesubdomains\", \"applet\", \"out-of-bounds\", \"oob\", \"heap-based\", \"yammer\", \"jabber\", \"bluetooth\", \"stack-based\",\n",
    " \"webgl\", \"wasm\", \"localstorage\", \"sqlite\", \"config\", \"glibc\", \"pci\", \"man-in-the-middle\", \"authenticator\", \"same-origin\",\n",
    " \"keyword\",\"homograph\", \"idn\", \"redirect\" ,\"der\", \"dir\", \"win32k\", \"metasploit\", \"meterpreter\", \"mifare\",\"owa\", \"phpmyadmin\",\n",
    " \"blowfish\", \"juniper\", \"jws\", \"libtiff\", \"eof\", \"p7\", \"pem\", \"mediatek\", \"mikrotik\",\"ike\", \"screenos\", \"atlassian\",\"cpanel\",\n",
    " \"junos\", \"side-loading\", \"teamviewer\", \"dnsmasq\", \"vnc\",\"lib\", \"cad\", \"autodesk\", \"hpe\", \"swf\", \"crossdomain.xml\",\n",
    " \"xmlrpc\", \"xml-rpc\", \"chakra\", \"sigsegv\", \"rmi\",\"wav\",\"mp3\",\"mp4\",\"mpeg\",\"mkv\", \"cpp\",\"imagemagick\", \"gcc\",\"g++\", \"llvm\",\n",
    " \"gdb\", \"groovy\", \"groovyscript\", \"netgear\", \"libssh\", \"okta\",\"xen\", \"zdi\", \"cvss\", \"starttls\",\"babel\",\"geforce\", \"asus\",\n",
    " \"salesforce\", \".net\", \"rebind\", \"snapdragon\", \"exynos\", \"\\0\", \"mcafee\",\"kaspersky\", \"dlp\", \"bytecode\", \"rapid7\", \"nexpose\",\n",
    " \"nessus\", \"zte\", \"xiaomi\",\"smtpd\",\"fedora\",\"httpd\",\"adb\", \"ld_library_path\",\"xst\",\"%s\",\"%n\", \"%x\",\"man-in-the-browser\",\n",
    " \"mitb\",\"non-final\",\"repudiation\", \"ssri\",\"ads\",\"xsrf\",\"qrljacking\",\"tapjacking\",\"tabnabbing\",\"fido\",\"tmpfs\",\"kubernetes\",\n",
    " \"dpapi\", \"mvc\",\"xaml\",\"xacml\",\"webroot\",\"sri\",\"html5\",\"websockets\",\"postmessage\",\"wss\",\"includesubdomains\",\"iat\",\"exp\",\n",
    " \"nist\",\"django\",\"grails\",\"gson\",\"angularjs\",\"vue\",\"reactjs\",\"totp\",\"hotp\",\"caa\",\"plugin\",\"nbf\",\"aud\",\"idp\",\"ocsp\",\"laravel\",\n",
    " \"iis\",\"netscape\",\"robots.txt\",\"cakephp\",\"802.1X\",\"802.11\",\"gz\",\"rar\",\"rtf\",\"wget\",\"lsass\",\"gets()\",\"stdin\",\"stdout\",\"stderr\",\n",
    "\"spotfire\",\"parser\"\n",
    " \n",
    "]"
   ]
  },
  {
   "cell_type": "code",
   "execution_count": 72,
   "metadata": {},
   "outputs": [
    {
     "name": "stdout",
     "output_type": "stream",
     "text": [
      "Tokenized:  ['and', '##r', 'oid']\n"
     ]
    },
    {
     "data": {
      "text/plain": [
       "['a']"
      ]
     },
     "execution_count": 72,
     "metadata": {},
     "output_type": "execute_result"
    }
   ],
   "source": [
    "tokenizer.add_tokens([\"ad\"])\n",
    "print('Tokenized: ', tokenizer.tokenize(\"Android\"))\n",
    "list(set([\"a\",\"a\"]))"
   ]
  },
  {
   "cell_type": "code",
   "execution_count": 49,
   "metadata": {},
   "outputs": [],
   "source": [
    "phrases = ['environment variable', \"buffer overflow\", \"stack overflow\", \"heap overflow\", \"regular expression\",\n",
    "\"denial of service\", \"cross site request forgery\", \"cross site scripting\", \"cross-site scripting\", \"cross-site request forgery\",\n",
    "\"elevation of privilege\", \"escalation of privilege\", \"adobe flash player\", \"adobe acrobat reader\", \"acrobat reader\", \"microsoft exchange\",\n",
    "\"race condition\", \"google chrome\", \"mozilla firefox\", \"internet explorer\", \"microsoft windows\", \"microsoft server\", \"palo alto\",\n",
    " \"command injection\", \"directory traversal\", \"path traversal\", \"windows rt\", \"windows 8\", \"windows 10\", \"windows xp\",\n",
    " \"windows 8.1\", \"microsoft edge\", \"atlassian jira\", \"sap netweaver\", \"remote file inclusion\", \"local file inclusion\",\n",
    " \"os x\", \"integer overflow\", \"integer underflow\", \"use after free\", \"side loading\", \"microsoft office\", \"windows vista\",\n",
    " \"pointer defererence\",\"dll hijacking\",\"open redirect\", \"openid connect\", \"memory corruption\", \"same origin policy\",\n",
    " \"nvidia geforce\",\".net framework\", \"dns spoofing\", \"dns rebinding\", \"outlook web access\",\"stack trace\",\"android debug bridge\",\n",
    " \"content security policy\", \"cross site tracing\", \"cross-site tracing\", \"forced browsing\",\"format string\",\"server side request forgery\",\n",
    " \"server-side request forgery\", \"server side includes\", \"server-side includes\", \"session fixation\",\"session hijacking\",\n",
    " 'alternate data stream', \"os injection\",\"parameter pollution\",\"verb tampering\",\"response splitting\",\"request smuggling\",\n",
    " \"padding oracle\", \"css injection\",\"microsoft iis\",\"active directory\",\"data execution prevention\",\"server side include\",\"oob read\",\n",
    "           \"oob write\",\"local security authority\",\"windows ole\",\"microsoft office ole\",\"forma string\",\"dot dot\", \"brute force\",\n",
    "\"out-of-bounds read\",\"out of bounds read\",\"out-of-bounds write\",\"out of bounds write\",\"apple safari\"\n",
    "\n",
    "]"
   ]
  },
  {
   "cell_type": "code",
   "execution_count": 50,
   "metadata": {},
   "outputs": [
    {
     "name": "stdout",
     "output_type": "stream",
     "text": [
      "Tokenized:  ['multiple', 'cross-site scripting', '(', 'xss', ')', 'vu', '##ln', '##era', '##bilities', 'in', 'pro', '-', 'search', '0', '.', '17', 'and', 'earlier', 'allow', 'remote', 'at', '##t', 'ack', 'er', '##s', 'to', 'in', '##ject', 'ar', '##bit', 'rar', 'y', 'web', 'script', 'or', 'html', 'via', 'the', '(', '1', ')', 'pro', '##t', ',', '(', '2', ')', 'host', ',', '(', '3', ')', 'path', ',', '(', '4', ')', 'name', ',', '(', '5', ')', 'ext', ',', '(', '6', ')', 'size', ',', '(', '7', ')', 'search', '_', 'days', ',', 'or', '(', '8', ')', 'show', '_', 'page', 'parameter', 'to', 'the', 'default', 'uri', '.']\n",
      "Tokenized:  ['multiple', 'cross', '-', 'site', 'script', '##ing', '(', 'x', '##ss', ')', 'vu', '##ln', '##era', '##bilities', 'in', 'pro', '-', 'search', '0', '.', '17', 'and', 'earlier', 'allow', 'remote', 'attackers', 'to', 'in', '##ject', 'arbitrary', 'web', 'script', 'or', 'html', 'via', 'the', '(', '1', ')', 'pro', '##t', ',', '(', '2', ')', 'host', ',', '(', '3', ')', 'path', ',', '(', '4', ')', 'name', ',', '(', '5', ')', 'ex', '##t', ',', '(', '6', ')', 'size', ',', '(', '7', ')', 'search', '_', 'days', ',', 'or', '(', '8', ')', 'show', '_', 'page', 'parameter', 'to', 'the', 'default', 'ur', '##i', '.']\n"
     ]
    }
   ],
   "source": [
    "tokenizer.add_tokens(words)\n",
    "tokenizer.add_tokens(phrases)\n",
    "tokenizer.add_tokens([\".doc\"])\n",
    "to_add = [\"inject\",\"exec()\",\"eval()\",\"xorg\",\"big-ip\"]\n",
    "to_remove = [\"ad\", \"exec\",\"eval\",\"oid\",\"bit\",\"rar\",\"ack\",\"ext\",\"mobi\",\"dep\",\"ssi\",\"iat\",\"aud\",\"exp\",\"auth\",\"api\",\"der\",\n",
    "            \"nsa\",\"oob\",\"efs\",\"wav\",\"sla\",\"pap\",\"isp\",\"ole\",\"lib\",\"config\",\"ide\",\"dir\",\"esr\",\"xor\"]\n",
    "base_tokenizer = tokenizer_class.from_pretrained(pretrained_weights, do_lower_case=True)\n",
    "\n",
    "sent =  train_df['Description'][18]\n",
    "print('Tokenized: ', tokenizer.tokenize(sent))\n",
    "print('Tokenized: ', base_tokenizer.tokenize(sent))"
   ]
  },
  {
   "cell_type": "code",
   "execution_count": 51,
   "metadata": {},
   "outputs": [],
   "source": [
    "words = [word for word in words if word not in to_remove]\n",
    "words += to_add"
   ]
  },
  {
   "cell_type": "code",
   "execution_count": 52,
   "metadata": {},
   "outputs": [],
   "source": [
    "words = sorted(list(set(words)))\n",
    "phrases = sorted(list(set(phrases)))\n",
    "extra_tokens = {\"words\" : list(set(words)), \"phrases\":phrases}\n",
    "import json\n",
    "with open('../datasets/vocab/extra_vocab.json', 'w') as outfile:\n",
    "    json.dump(extra_tokens, outfile)"
   ]
  },
  {
   "cell_type": "code",
   "execution_count": 55,
   "metadata": {},
   "outputs": [],
   "source": [
    "if \"ad\" in words:\n",
    "    print(1)"
   ]
  },
  {
   "cell_type": "code",
   "execution_count": null,
   "metadata": {},
   "outputs": [],
   "source": [
    "# https://nvlpubs.nist.gov/nistpubs/ir/2013/NIST.IR.7298r2.pdf\n",
    "# https://www.sans.org/security-resources/glossary-of-terms/\n",
    "# https://www.owasp.org/images/1/19/OTGv4.pdf"
   ]
  }
 ],
 "metadata": {
  "accelerator": "GPU",
  "colab": {
   "name": "Model-V2.ipynb",
   "provenance": []
  },
  "kernelspec": {
   "display_name": "Python 3",
   "language": "python",
   "name": "python3"
  },
  "language_info": {
   "codemirror_mode": {
    "name": "ipython",
    "version": 3
   },
   "file_extension": ".py",
   "mimetype": "text/x-python",
   "name": "python",
   "nbconvert_exporter": "python",
   "pygments_lexer": "ipython3",
   "version": "3.6.9"
  },
  "widgets": {
   "application/vnd.jupyter.widget-state+json": {
    "03ea662ba605432a92dc26d0a28ff1ab": {
     "model_module": "@jupyter-widgets/controls",
     "model_name": "HTMLModel",
     "state": {
      "_dom_classes": [],
      "_model_module": "@jupyter-widgets/controls",
      "_model_module_version": "1.5.0",
      "_model_name": "HTMLModel",
      "_view_count": null,
      "_view_module": "@jupyter-widgets/controls",
      "_view_module_version": "1.5.0",
      "_view_name": "HTMLView",
      "description": "",
      "description_tooltip": null,
      "layout": "IPY_MODEL_57da120472f3496e89904cb1a01da3e4",
      "placeholder": "​",
      "style": "IPY_MODEL_97950f4dcab84e00b5d7c86ed55175fe",
      "value": "100% 361/361 [00:00&lt;00:00, 13.4kB/s]"
     }
    },
    "105715a634d94e45b41960c494a330b1": {
     "model_module": "@jupyter-widgets/controls",
     "model_name": "HBoxModel",
     "state": {
      "_dom_classes": [],
      "_model_module": "@jupyter-widgets/controls",
      "_model_module_version": "1.5.0",
      "_model_name": "HBoxModel",
      "_view_count": null,
      "_view_module": "@jupyter-widgets/controls",
      "_view_module_version": "1.5.0",
      "_view_name": "HBoxView",
      "box_style": "",
      "children": [
       "IPY_MODEL_210d481d407642bea4bb15ca693f4780",
       "IPY_MODEL_bd11b11a7b56476e8a4dbf462ecb4b8d"
      ],
      "layout": "IPY_MODEL_ad9cc6363b534e31a46dff19fe865fae"
     }
    },
    "210d481d407642bea4bb15ca693f4780": {
     "model_module": "@jupyter-widgets/controls",
     "model_name": "IntProgressModel",
     "state": {
      "_dom_classes": [],
      "_model_module": "@jupyter-widgets/controls",
      "_model_module_version": "1.5.0",
      "_model_name": "IntProgressModel",
      "_view_count": null,
      "_view_module": "@jupyter-widgets/controls",
      "_view_module_version": "1.5.0",
      "_view_name": "ProgressView",
      "bar_style": "success",
      "description": "Downloading",
      "description_tooltip": null,
      "layout": "IPY_MODEL_a5ad8695c94d4f08b7f190bf7c6d2385",
      "max": 440473133,
      "min": 0,
      "orientation": "horizontal",
      "style": "IPY_MODEL_8c3bfc17779b491aa624c9a46d4d8c4e",
      "value": 440473133
     }
    },
    "3344529ff90f4266af2aaf0c5566c0dd": {
     "model_module": "@jupyter-widgets/controls",
     "model_name": "HTMLModel",
     "state": {
      "_dom_classes": [],
      "_model_module": "@jupyter-widgets/controls",
      "_model_module_version": "1.5.0",
      "_model_name": "HTMLModel",
      "_view_count": null,
      "_view_module": "@jupyter-widgets/controls",
      "_view_module_version": "1.5.0",
      "_view_name": "HTMLView",
      "description": "",
      "description_tooltip": null,
      "layout": "IPY_MODEL_52607b7d432648a9b688cfce5059bf0e",
      "placeholder": "​",
      "style": "IPY_MODEL_d1c5232757d54bcb9cd347d8fc53b857",
      "value": "100% 232k/232k [00:00&lt;00:00, 356kB/s]"
     }
    },
    "3bc72c0f4bc24ebb8c1f78b98e4e229a": {
     "model_module": "@jupyter-widgets/controls",
     "model_name": "DescriptionStyleModel",
     "state": {
      "_model_module": "@jupyter-widgets/controls",
      "_model_module_version": "1.5.0",
      "_model_name": "DescriptionStyleModel",
      "_view_count": null,
      "_view_module": "@jupyter-widgets/base",
      "_view_module_version": "1.2.0",
      "_view_name": "StyleView",
      "description_width": ""
     }
    },
    "3eaba4150a884a9faf441d94eb3cb30e": {
     "model_module": "@jupyter-widgets/controls",
     "model_name": "ProgressStyleModel",
     "state": {
      "_model_module": "@jupyter-widgets/controls",
      "_model_module_version": "1.5.0",
      "_model_name": "ProgressStyleModel",
      "_view_count": null,
      "_view_module": "@jupyter-widgets/base",
      "_view_module_version": "1.2.0",
      "_view_name": "StyleView",
      "bar_color": null,
      "description_width": "initial"
     }
    },
    "4017e4f4d45a4b319f731e9db1c24b7e": {
     "model_module": "@jupyter-widgets/base",
     "model_name": "LayoutModel",
     "state": {
      "_model_module": "@jupyter-widgets/base",
      "_model_module_version": "1.2.0",
      "_model_name": "LayoutModel",
      "_view_count": null,
      "_view_module": "@jupyter-widgets/base",
      "_view_module_version": "1.2.0",
      "_view_name": "LayoutView",
      "align_content": null,
      "align_items": null,
      "align_self": null,
      "border": null,
      "bottom": null,
      "display": null,
      "flex": null,
      "flex_flow": null,
      "grid_area": null,
      "grid_auto_columns": null,
      "grid_auto_flow": null,
      "grid_auto_rows": null,
      "grid_column": null,
      "grid_gap": null,
      "grid_row": null,
      "grid_template_areas": null,
      "grid_template_columns": null,
      "grid_template_rows": null,
      "height": null,
      "justify_content": null,
      "justify_items": null,
      "left": null,
      "margin": null,
      "max_height": null,
      "max_width": null,
      "min_height": null,
      "min_width": null,
      "object_fit": null,
      "object_position": null,
      "order": null,
      "overflow": null,
      "overflow_x": null,
      "overflow_y": null,
      "padding": null,
      "right": null,
      "top": null,
      "visibility": null,
      "width": null
     }
    },
    "5243245110c342a0a118aa8a3a596d9a": {
     "model_module": "@jupyter-widgets/base",
     "model_name": "LayoutModel",
     "state": {
      "_model_module": "@jupyter-widgets/base",
      "_model_module_version": "1.2.0",
      "_model_name": "LayoutModel",
      "_view_count": null,
      "_view_module": "@jupyter-widgets/base",
      "_view_module_version": "1.2.0",
      "_view_name": "LayoutView",
      "align_content": null,
      "align_items": null,
      "align_self": null,
      "border": null,
      "bottom": null,
      "display": null,
      "flex": null,
      "flex_flow": null,
      "grid_area": null,
      "grid_auto_columns": null,
      "grid_auto_flow": null,
      "grid_auto_rows": null,
      "grid_column": null,
      "grid_gap": null,
      "grid_row": null,
      "grid_template_areas": null,
      "grid_template_columns": null,
      "grid_template_rows": null,
      "height": null,
      "justify_content": null,
      "justify_items": null,
      "left": null,
      "margin": null,
      "max_height": null,
      "max_width": null,
      "min_height": null,
      "min_width": null,
      "object_fit": null,
      "object_position": null,
      "order": null,
      "overflow": null,
      "overflow_x": null,
      "overflow_y": null,
      "padding": null,
      "right": null,
      "top": null,
      "visibility": null,
      "width": null
     }
    },
    "52607b7d432648a9b688cfce5059bf0e": {
     "model_module": "@jupyter-widgets/base",
     "model_name": "LayoutModel",
     "state": {
      "_model_module": "@jupyter-widgets/base",
      "_model_module_version": "1.2.0",
      "_model_name": "LayoutModel",
      "_view_count": null,
      "_view_module": "@jupyter-widgets/base",
      "_view_module_version": "1.2.0",
      "_view_name": "LayoutView",
      "align_content": null,
      "align_items": null,
      "align_self": null,
      "border": null,
      "bottom": null,
      "display": null,
      "flex": null,
      "flex_flow": null,
      "grid_area": null,
      "grid_auto_columns": null,
      "grid_auto_flow": null,
      "grid_auto_rows": null,
      "grid_column": null,
      "grid_gap": null,
      "grid_row": null,
      "grid_template_areas": null,
      "grid_template_columns": null,
      "grid_template_rows": null,
      "height": null,
      "justify_content": null,
      "justify_items": null,
      "left": null,
      "margin": null,
      "max_height": null,
      "max_width": null,
      "min_height": null,
      "min_width": null,
      "object_fit": null,
      "object_position": null,
      "order": null,
      "overflow": null,
      "overflow_x": null,
      "overflow_y": null,
      "padding": null,
      "right": null,
      "top": null,
      "visibility": null,
      "width": null
     }
    },
    "55bc28d75021466d9e71aada1854668f": {
     "model_module": "@jupyter-widgets/controls",
     "model_name": "IntProgressModel",
     "state": {
      "_dom_classes": [],
      "_model_module": "@jupyter-widgets/controls",
      "_model_module_version": "1.5.0",
      "_model_name": "IntProgressModel",
      "_view_count": null,
      "_view_module": "@jupyter-widgets/controls",
      "_view_module_version": "1.5.0",
      "_view_name": "ProgressView",
      "bar_style": "success",
      "description": "Downloading",
      "description_tooltip": null,
      "layout": "IPY_MODEL_ac4a4698a28c4be7976deb72bd505af8",
      "max": 361,
      "min": 0,
      "orientation": "horizontal",
      "style": "IPY_MODEL_3eaba4150a884a9faf441d94eb3cb30e",
      "value": 361
     }
    },
    "57da120472f3496e89904cb1a01da3e4": {
     "model_module": "@jupyter-widgets/base",
     "model_name": "LayoutModel",
     "state": {
      "_model_module": "@jupyter-widgets/base",
      "_model_module_version": "1.2.0",
      "_model_name": "LayoutModel",
      "_view_count": null,
      "_view_module": "@jupyter-widgets/base",
      "_view_module_version": "1.2.0",
      "_view_name": "LayoutView",
      "align_content": null,
      "align_items": null,
      "align_self": null,
      "border": null,
      "bottom": null,
      "display": null,
      "flex": null,
      "flex_flow": null,
      "grid_area": null,
      "grid_auto_columns": null,
      "grid_auto_flow": null,
      "grid_auto_rows": null,
      "grid_column": null,
      "grid_gap": null,
      "grid_row": null,
      "grid_template_areas": null,
      "grid_template_columns": null,
      "grid_template_rows": null,
      "height": null,
      "justify_content": null,
      "justify_items": null,
      "left": null,
      "margin": null,
      "max_height": null,
      "max_width": null,
      "min_height": null,
      "min_width": null,
      "object_fit": null,
      "object_position": null,
      "order": null,
      "overflow": null,
      "overflow_x": null,
      "overflow_y": null,
      "padding": null,
      "right": null,
      "top": null,
      "visibility": null,
      "width": null
     }
    },
    "5f8ae24b584f42eba9590e163a92d13d": {
     "model_module": "@jupyter-widgets/controls",
     "model_name": "HBoxModel",
     "state": {
      "_dom_classes": [],
      "_model_module": "@jupyter-widgets/controls",
      "_model_module_version": "1.5.0",
      "_model_name": "HBoxModel",
      "_view_count": null,
      "_view_module": "@jupyter-widgets/controls",
      "_view_module_version": "1.5.0",
      "_view_name": "HBoxView",
      "box_style": "",
      "children": [
       "IPY_MODEL_b737b456003540bfbfe10b6c465ec22e",
       "IPY_MODEL_3344529ff90f4266af2aaf0c5566c0dd"
      ],
      "layout": "IPY_MODEL_5243245110c342a0a118aa8a3a596d9a"
     }
    },
    "646ffdb86a37478c92c20e5401ccec46": {
     "model_module": "@jupyter-widgets/controls",
     "model_name": "ProgressStyleModel",
     "state": {
      "_model_module": "@jupyter-widgets/controls",
      "_model_module_version": "1.5.0",
      "_model_name": "ProgressStyleModel",
      "_view_count": null,
      "_view_module": "@jupyter-widgets/base",
      "_view_module_version": "1.2.0",
      "_view_name": "StyleView",
      "bar_color": null,
      "description_width": "initial"
     }
    },
    "89421b3102464922837c72b24cb2a440": {
     "model_module": "@jupyter-widgets/base",
     "model_name": "LayoutModel",
     "state": {
      "_model_module": "@jupyter-widgets/base",
      "_model_module_version": "1.2.0",
      "_model_name": "LayoutModel",
      "_view_count": null,
      "_view_module": "@jupyter-widgets/base",
      "_view_module_version": "1.2.0",
      "_view_name": "LayoutView",
      "align_content": null,
      "align_items": null,
      "align_self": null,
      "border": null,
      "bottom": null,
      "display": null,
      "flex": null,
      "flex_flow": null,
      "grid_area": null,
      "grid_auto_columns": null,
      "grid_auto_flow": null,
      "grid_auto_rows": null,
      "grid_column": null,
      "grid_gap": null,
      "grid_row": null,
      "grid_template_areas": null,
      "grid_template_columns": null,
      "grid_template_rows": null,
      "height": null,
      "justify_content": null,
      "justify_items": null,
      "left": null,
      "margin": null,
      "max_height": null,
      "max_width": null,
      "min_height": null,
      "min_width": null,
      "object_fit": null,
      "object_position": null,
      "order": null,
      "overflow": null,
      "overflow_x": null,
      "overflow_y": null,
      "padding": null,
      "right": null,
      "top": null,
      "visibility": null,
      "width": null
     }
    },
    "8c3bfc17779b491aa624c9a46d4d8c4e": {
     "model_module": "@jupyter-widgets/controls",
     "model_name": "ProgressStyleModel",
     "state": {
      "_model_module": "@jupyter-widgets/controls",
      "_model_module_version": "1.5.0",
      "_model_name": "ProgressStyleModel",
      "_view_count": null,
      "_view_module": "@jupyter-widgets/base",
      "_view_module_version": "1.2.0",
      "_view_name": "StyleView",
      "bar_color": null,
      "description_width": "initial"
     }
    },
    "96f287cd332d437999a35f0acecbb815": {
     "model_module": "@jupyter-widgets/controls",
     "model_name": "HBoxModel",
     "state": {
      "_dom_classes": [],
      "_model_module": "@jupyter-widgets/controls",
      "_model_module_version": "1.5.0",
      "_model_name": "HBoxModel",
      "_view_count": null,
      "_view_module": "@jupyter-widgets/controls",
      "_view_module_version": "1.5.0",
      "_view_name": "HBoxView",
      "box_style": "",
      "children": [
       "IPY_MODEL_55bc28d75021466d9e71aada1854668f",
       "IPY_MODEL_03ea662ba605432a92dc26d0a28ff1ab"
      ],
      "layout": "IPY_MODEL_89421b3102464922837c72b24cb2a440"
     }
    },
    "97950f4dcab84e00b5d7c86ed55175fe": {
     "model_module": "@jupyter-widgets/controls",
     "model_name": "DescriptionStyleModel",
     "state": {
      "_model_module": "@jupyter-widgets/controls",
      "_model_module_version": "1.5.0",
      "_model_name": "DescriptionStyleModel",
      "_view_count": null,
      "_view_module": "@jupyter-widgets/base",
      "_view_module_version": "1.2.0",
      "_view_name": "StyleView",
      "description_width": ""
     }
    },
    "a5ad8695c94d4f08b7f190bf7c6d2385": {
     "model_module": "@jupyter-widgets/base",
     "model_name": "LayoutModel",
     "state": {
      "_model_module": "@jupyter-widgets/base",
      "_model_module_version": "1.2.0",
      "_model_name": "LayoutModel",
      "_view_count": null,
      "_view_module": "@jupyter-widgets/base",
      "_view_module_version": "1.2.0",
      "_view_name": "LayoutView",
      "align_content": null,
      "align_items": null,
      "align_self": null,
      "border": null,
      "bottom": null,
      "display": null,
      "flex": null,
      "flex_flow": null,
      "grid_area": null,
      "grid_auto_columns": null,
      "grid_auto_flow": null,
      "grid_auto_rows": null,
      "grid_column": null,
      "grid_gap": null,
      "grid_row": null,
      "grid_template_areas": null,
      "grid_template_columns": null,
      "grid_template_rows": null,
      "height": null,
      "justify_content": null,
      "justify_items": null,
      "left": null,
      "margin": null,
      "max_height": null,
      "max_width": null,
      "min_height": null,
      "min_width": null,
      "object_fit": null,
      "object_position": null,
      "order": null,
      "overflow": null,
      "overflow_x": null,
      "overflow_y": null,
      "padding": null,
      "right": null,
      "top": null,
      "visibility": null,
      "width": null
     }
    },
    "ac4a4698a28c4be7976deb72bd505af8": {
     "model_module": "@jupyter-widgets/base",
     "model_name": "LayoutModel",
     "state": {
      "_model_module": "@jupyter-widgets/base",
      "_model_module_version": "1.2.0",
      "_model_name": "LayoutModel",
      "_view_count": null,
      "_view_module": "@jupyter-widgets/base",
      "_view_module_version": "1.2.0",
      "_view_name": "LayoutView",
      "align_content": null,
      "align_items": null,
      "align_self": null,
      "border": null,
      "bottom": null,
      "display": null,
      "flex": null,
      "flex_flow": null,
      "grid_area": null,
      "grid_auto_columns": null,
      "grid_auto_flow": null,
      "grid_auto_rows": null,
      "grid_column": null,
      "grid_gap": null,
      "grid_row": null,
      "grid_template_areas": null,
      "grid_template_columns": null,
      "grid_template_rows": null,
      "height": null,
      "justify_content": null,
      "justify_items": null,
      "left": null,
      "margin": null,
      "max_height": null,
      "max_width": null,
      "min_height": null,
      "min_width": null,
      "object_fit": null,
      "object_position": null,
      "order": null,
      "overflow": null,
      "overflow_x": null,
      "overflow_y": null,
      "padding": null,
      "right": null,
      "top": null,
      "visibility": null,
      "width": null
     }
    },
    "ad9cc6363b534e31a46dff19fe865fae": {
     "model_module": "@jupyter-widgets/base",
     "model_name": "LayoutModel",
     "state": {
      "_model_module": "@jupyter-widgets/base",
      "_model_module_version": "1.2.0",
      "_model_name": "LayoutModel",
      "_view_count": null,
      "_view_module": "@jupyter-widgets/base",
      "_view_module_version": "1.2.0",
      "_view_name": "LayoutView",
      "align_content": null,
      "align_items": null,
      "align_self": null,
      "border": null,
      "bottom": null,
      "display": null,
      "flex": null,
      "flex_flow": null,
      "grid_area": null,
      "grid_auto_columns": null,
      "grid_auto_flow": null,
      "grid_auto_rows": null,
      "grid_column": null,
      "grid_gap": null,
      "grid_row": null,
      "grid_template_areas": null,
      "grid_template_columns": null,
      "grid_template_rows": null,
      "height": null,
      "justify_content": null,
      "justify_items": null,
      "left": null,
      "margin": null,
      "max_height": null,
      "max_width": null,
      "min_height": null,
      "min_width": null,
      "object_fit": null,
      "object_position": null,
      "order": null,
      "overflow": null,
      "overflow_x": null,
      "overflow_y": null,
      "padding": null,
      "right": null,
      "top": null,
      "visibility": null,
      "width": null
     }
    },
    "b737b456003540bfbfe10b6c465ec22e": {
     "model_module": "@jupyter-widgets/controls",
     "model_name": "IntProgressModel",
     "state": {
      "_dom_classes": [],
      "_model_module": "@jupyter-widgets/controls",
      "_model_module_version": "1.5.0",
      "_model_name": "IntProgressModel",
      "_view_count": null,
      "_view_module": "@jupyter-widgets/controls",
      "_view_module_version": "1.5.0",
      "_view_name": "ProgressView",
      "bar_style": "success",
      "description": "Downloading",
      "description_tooltip": null,
      "layout": "IPY_MODEL_4017e4f4d45a4b319f731e9db1c24b7e",
      "max": 231508,
      "min": 0,
      "orientation": "horizontal",
      "style": "IPY_MODEL_646ffdb86a37478c92c20e5401ccec46",
      "value": 231508
     }
    },
    "bd11b11a7b56476e8a4dbf462ecb4b8d": {
     "model_module": "@jupyter-widgets/controls",
     "model_name": "HTMLModel",
     "state": {
      "_dom_classes": [],
      "_model_module": "@jupyter-widgets/controls",
      "_model_module_version": "1.5.0",
      "_model_name": "HTMLModel",
      "_view_count": null,
      "_view_module": "@jupyter-widgets/controls",
      "_view_module_version": "1.5.0",
      "_view_name": "HTMLView",
      "description": "",
      "description_tooltip": null,
      "layout": "IPY_MODEL_fc862b9e9f3d4c53a7e3357b0527b113",
      "placeholder": "​",
      "style": "IPY_MODEL_3bc72c0f4bc24ebb8c1f78b98e4e229a",
      "value": "100% 440M/440M [00:44&lt;00:00, 9.84MB/s]"
     }
    },
    "d1c5232757d54bcb9cd347d8fc53b857": {
     "model_module": "@jupyter-widgets/controls",
     "model_name": "DescriptionStyleModel",
     "state": {
      "_model_module": "@jupyter-widgets/controls",
      "_model_module_version": "1.5.0",
      "_model_name": "DescriptionStyleModel",
      "_view_count": null,
      "_view_module": "@jupyter-widgets/base",
      "_view_module_version": "1.2.0",
      "_view_name": "StyleView",
      "description_width": ""
     }
    },
    "fc862b9e9f3d4c53a7e3357b0527b113": {
     "model_module": "@jupyter-widgets/base",
     "model_name": "LayoutModel",
     "state": {
      "_model_module": "@jupyter-widgets/base",
      "_model_module_version": "1.2.0",
      "_model_name": "LayoutModel",
      "_view_count": null,
      "_view_module": "@jupyter-widgets/base",
      "_view_module_version": "1.2.0",
      "_view_name": "LayoutView",
      "align_content": null,
      "align_items": null,
      "align_self": null,
      "border": null,
      "bottom": null,
      "display": null,
      "flex": null,
      "flex_flow": null,
      "grid_area": null,
      "grid_auto_columns": null,
      "grid_auto_flow": null,
      "grid_auto_rows": null,
      "grid_column": null,
      "grid_gap": null,
      "grid_row": null,
      "grid_template_areas": null,
      "grid_template_columns": null,
      "grid_template_rows": null,
      "height": null,
      "justify_content": null,
      "justify_items": null,
      "left": null,
      "margin": null,
      "max_height": null,
      "max_width": null,
      "min_height": null,
      "min_width": null,
      "object_fit": null,
      "object_position": null,
      "order": null,
      "overflow": null,
      "overflow_x": null,
      "overflow_y": null,
      "padding": null,
      "right": null,
      "top": null,
      "visibility": null,
      "width": null
     }
    }
   }
  }
 },
 "nbformat": 4,
 "nbformat_minor": 1
}
