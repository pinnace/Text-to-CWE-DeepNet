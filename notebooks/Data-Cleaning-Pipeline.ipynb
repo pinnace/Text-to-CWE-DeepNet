{
 "cells": [
  {
   "cell_type": "code",
   "execution_count": 202,
   "metadata": {},
   "outputs": [],
   "source": [
    "from sklearn.pipeline import Pipeline\n",
    "from sklearn.base import BaseEstimator, TransformerMixin\n",
    "from sklearn.model_selection import StratifiedShuffleSplit\n",
    "import pandas as pd\n",
    "import numpy as np"
   ]
  },
  {
   "cell_type": "code",
   "execution_count": 203,
   "metadata": {},
   "outputs": [
    {
     "name": "stdout",
     "output_type": "stream",
     "text": [
      "Length: 190685\n"
     ]
    }
   ],
   "source": [
    "obs_df = pd.read_csv(\"../datasets/TrainingV3/observed-examples.csv\")\n",
    "cwe_desc_df = pd.read_csv(\"../datasets/TrainingV3/cwe-schema-descriptions.csv\")\n",
    "nvd_df = pd.read_csv(\"../datasets/TrainingV3/nvd-parsed-dataset.csv\")\n",
    "xfrc_df = pd.read_csv(\"../datasets/TrainingV3/x_force_dataset.csv\")\n",
    "\n",
    "merged_df = pd.concat(\n",
    "    [obs_df, cwe_desc_df, nvd_df, xfrc_df],\n",
    "    sort=True\n",
    ")\n",
    "\n",
    "print(\"Length: {}\".format(len(merged_df)))"
   ]
  },
  {
   "cell_type": "code",
   "execution_count": 204,
   "metadata": {},
   "outputs": [
    {
     "data": {
      "text/html": [
       "<div>\n",
       "<style scoped>\n",
       "    .dataframe tbody tr th:only-of-type {\n",
       "        vertical-align: middle;\n",
       "    }\n",
       "\n",
       "    .dataframe tbody tr th {\n",
       "        vertical-align: top;\n",
       "    }\n",
       "\n",
       "    .dataframe thead th {\n",
       "        text-align: right;\n",
       "    }\n",
       "</style>\n",
       "<table border=\"1\" class=\"dataframe\">\n",
       "  <thead>\n",
       "    <tr style=\"text-align: right;\">\n",
       "      <th></th>\n",
       "      <th>CVE</th>\n",
       "      <th>CWE-ID</th>\n",
       "      <th>Description</th>\n",
       "    </tr>\n",
       "  </thead>\n",
       "  <tbody>\n",
       "    <tr>\n",
       "      <th>0</th>\n",
       "      <td>CVE-2014-3852</td>\n",
       "      <td>1004</td>\n",
       "      <td>CMS written in Python does not include the HTT...</td>\n",
       "    </tr>\n",
       "    <tr>\n",
       "      <th>1</th>\n",
       "      <td>CVE-2015-4138</td>\n",
       "      <td>1004</td>\n",
       "      <td>Appliance for managing encrypted communication...</td>\n",
       "    </tr>\n",
       "    <tr>\n",
       "      <th>0</th>\n",
       "      <td>NaN</td>\n",
       "      <td>1004</td>\n",
       "      <td>The software uses a cookie to store sensitive ...</td>\n",
       "    </tr>\n",
       "    <tr>\n",
       "      <th>1</th>\n",
       "      <td>NaN</td>\n",
       "      <td>1004</td>\n",
       "      <td>The HttpOnly flag directs compatible browsers ...</td>\n",
       "    </tr>\n",
       "    <tr>\n",
       "      <th>2</th>\n",
       "      <td>NaN</td>\n",
       "      <td>1004</td>\n",
       "      <td>An HTTP cookie is a small piece of data attrib...</td>\n",
       "    </tr>\n",
       "    <tr>\n",
       "      <th>3</th>\n",
       "      <td>NaN</td>\n",
       "      <td>1004</td>\n",
       "      <td>If the HttpOnly flag is not set, then sensitiv...</td>\n",
       "    </tr>\n",
       "    <tr>\n",
       "      <th>4</th>\n",
       "      <td>NaN</td>\n",
       "      <td>1004</td>\n",
       "      <td>If the cookie in question is an authentication...</td>\n",
       "    </tr>\n",
       "    <tr>\n",
       "      <th>66389</th>\n",
       "      <td>CVE-2014-3852</td>\n",
       "      <td>1004</td>\n",
       "      <td>Pyplate could allow a remote attacker to obtai...</td>\n",
       "    </tr>\n",
       "    <tr>\n",
       "      <th>66390</th>\n",
       "      <td>CVE-2015-4138</td>\n",
       "      <td>1004</td>\n",
       "      <td>Blue Coat SSL Visibility Appliance SV800, SV18...</td>\n",
       "    </tr>\n",
       "  </tbody>\n",
       "</table>\n",
       "</div>"
      ],
      "text/plain": [
       "                 CVE  CWE-ID  \\\n",
       "0      CVE-2014-3852    1004   \n",
       "1      CVE-2015-4138    1004   \n",
       "0                NaN    1004   \n",
       "1                NaN    1004   \n",
       "2                NaN    1004   \n",
       "3                NaN    1004   \n",
       "4                NaN    1004   \n",
       "66389  CVE-2014-3852    1004   \n",
       "66390  CVE-2015-4138    1004   \n",
       "\n",
       "                                             Description  \n",
       "0      CMS written in Python does not include the HTT...  \n",
       "1      Appliance for managing encrypted communication...  \n",
       "0      The software uses a cookie to store sensitive ...  \n",
       "1      The HttpOnly flag directs compatible browsers ...  \n",
       "2      An HTTP cookie is a small piece of data attrib...  \n",
       "3      If the HttpOnly flag is not set, then sensitiv...  \n",
       "4      If the cookie in question is an authentication...  \n",
       "66389  Pyplate could allow a remote attacker to obtai...  \n",
       "66390  Blue Coat SSL Visibility Appliance SV800, SV18...  "
      ]
     },
     "execution_count": 204,
     "metadata": {},
     "output_type": "execute_result"
    }
   ],
   "source": [
    "merged_df.loc[merged_df[\"CWE-ID\"] == 1004]"
   ]
  },
  {
   "cell_type": "code",
   "execution_count": null,
   "metadata": {},
   "outputs": [],
   "source": []
  },
  {
   "cell_type": "code",
   "execution_count": 205,
   "metadata": {},
   "outputs": [],
   "source": [
    "class ObsExampleEnrichment(BaseEstimator, TransformerMixin):\n",
    "    \"\"\"\n",
    "    The observed examples often are more specific. \n",
    "    \"\"\"\n",
    "    def __init__(self, obs_df):\n",
    "        self.obs_df = obs_df\n",
    "        \n",
    "        # If the observed example is the member of a class, do not replace\n",
    "        self.cwe_classes = [1023, 1038, 1039, 1059, 1061, 1076, 1078, 1093, 1120, 114, 116, 1164, 1176, 1177, 118, 119, 1229, 138, 159, 172, 185, 20, 200, 216, 221, 228, 269, 271, 282, 285, 286, 287, 300, 311, 326, 327, 330, 340, 345, 362, 377, 400, 402, 404, 405, 406, 407, 424, 436, 441, 446, 451, 506, 514, 522, 573, 592, 610, 636, 637, 638, 642, 657, 662, 665, 666, 667, 668, 669, 670, 671, 672, 673, 674, 675, 684, 696, 704, 705, 706, 732, 74, 75, 754, 755, 758, 77, 790, 799, 834, 862, 863, 912, 913, 922, 923, 943, 99]\n",
    "    def fit(self, frame):\n",
    "        return self\n",
    "    def transform(self, frame):\n",
    "        count = 0\n",
    "        for row, observed_example in self.obs_df.iterrows():\n",
    "            if observed_example[\"CWE-ID\"] not in self.cwe_classes:\n",
    "                frame.loc[frame[\"CVE\"] == observed_example[\"CVE\"], 'CWE-ID'] = observed_example[\"CWE-ID\"]\n",
    "                count += 1\n",
    "        print(\"[+] Found and replaced {} examples with observed examples\".format(count))\n",
    "        return frame"
   ]
  },
  {
   "cell_type": "code",
   "execution_count": 206,
   "metadata": {},
   "outputs": [],
   "source": [
    "\n",
    "class StripVersionNumbers(BaseEstimator, TransformerMixin):\n",
    "    \"\"\"\n",
    "    Strip all version strings.\n",
    "    \n",
    "    Examples:\n",
    "        1.0\n",
    "        1.7.6\n",
    "        7.54\n",
    "        4.3.2229\n",
    "        0.7rc1\n",
    "        1.0b\n",
    "        0.08\n",
    "        2.2.x\n",
    "        2.2.7-dev\n",
    "        2.6.26.4\n",
    "        3.x\n",
    "        0.848b\n",
    "        1.1.21rc1\n",
    "        4.1.7.F\n",
    "        1.913-2.fc7\n",
    "    \"\"\"\n",
    "    def __init__(self):\n",
    "        self.reg = \"(\\d+\\.)([a-zA-Z-0-9]+\\.)?([a-zA-Z-0-9]+\\.)?([a-zA-Z-0-9]+\\.?)\"\n",
    "    def fit(self, frame):\n",
    "        return self\n",
    "    def transform(self, frame):\n",
    "        import re\n",
    "        frame[\"Description\"] = frame[\"Description\"].apply(lambda desc: re.sub(self.reg, '', desc))\n",
    "        return frame"
   ]
  },
  {
   "cell_type": "code",
   "execution_count": 207,
   "metadata": {},
   "outputs": [],
   "source": [
    "class StripWhitespace(BaseEstimator, TransformerMixin):\n",
    "    \"\"\"\n",
    "    Replace all runs of whitespace with a single space\n",
    "    \"\"\"\n",
    "    def __init__(self):\n",
    "        pass\n",
    "    def fit(self, frame):\n",
    "        return self\n",
    "    def transform(self, frame):\n",
    "        import re\n",
    "        frame[\"Description\"] = frame[\"Description\"].apply(lambda desc: re.sub(r\"\\s+\", ' ', desc))#desc.replace('\\n', '').replace('\\t', ''))\n",
    "        return frame"
   ]
  },
  {
   "cell_type": "code",
   "execution_count": 208,
   "metadata": {},
   "outputs": [],
   "source": [
    "underrep_frame = pd.DataFrame()\n",
    "class ExtractAndRemoveUnderrespresentedCWEs(BaseEstimator, TransformerMixin):\n",
    "    \"\"\"\n",
    "   Sets a variable `underrep_frame` in the global scope to the extracted frame\n",
    "    \"\"\"\n",
    "    def __init__(self, threshold: int = 5):\n",
    "        self.threshold = threshold\n",
    "    def fit(self, frame):\n",
    "        return self\n",
    "    def transform(self, frame):\n",
    "        counts = frame[\"CWE-ID\"].value_counts()\n",
    "        underrepresented_cwes = counts.where(counts <= self.threshold).dropna().index.tolist()\n",
    "        ur_frame = frame[frame['CWE-ID'].isin(underrepresented_cwes)]\n",
    "        \n",
    "        global underrep_frame \n",
    "        underrep_frame = ur_frame\n",
    "        \n",
    "        frame = frame[~frame['CWE-ID'].isin(counts[counts <= self.threshold].index)]\n",
    "        final_counts = frame[\"CWE-ID\"].value_counts()\n",
    "        print(\"Original Number of CWEs: {}, final count: {}\".format(len(counts), len(final_counts)))\n",
    "        return frame"
   ]
  },
  {
   "cell_type": "code",
   "execution_count": 209,
   "metadata": {},
   "outputs": [],
   "source": [
    "lookup_table = None\n",
    "class CreateAndMapLookupTable(BaseEstimator, TransformerMixin):\n",
    "    \"\"\"\n",
    "    Map all CWEs to numbers `0...num_uniq_cwe`. Set global `lookup_table` variable\n",
    "    \"\"\"\n",
    "    def __init__(self):\n",
    "        pass\n",
    "    def fit(self, frame):\n",
    "        return self\n",
    "    def transform(self, frame):\n",
    "        labels = frame['CWE-ID'].unique()\n",
    "        global lookup_table\n",
    "        lookup_table = dict(zip(list(labels), range(0, len(labels))))\n",
    "        frame[\"CWE-ID\"] = frame['CWE-ID'].apply(lambda x:lookup_table[x])\n",
    "        return frame"
   ]
  },
  {
   "cell_type": "code",
   "execution_count": 210,
   "metadata": {},
   "outputs": [],
   "source": [
    "\n",
    "cve_transform_pipeline = Pipeline(\n",
    "                        steps=[\n",
    "                            \n",
    "                            ('obs_enrichment',       ObsExampleEnrichment(obs_df=obs_df)),\n",
    "                            ('strip_version',        StripVersionNumbers()),\n",
    "                            ('strip_whitespace',     StripWhitespace()),\n",
    "                            ('extract_underrep_cwe', ExtractAndRemoveUnderrespresentedCWEs(threshold=5)),\n",
    "                            ('lookup_table',         CreateAndMapLookupTable())\n",
    "                        ]\n",
    "                        )"
   ]
  },
  {
   "cell_type": "code",
   "execution_count": 211,
   "metadata": {},
   "outputs": [
    {
     "name": "stdout",
     "output_type": "stream",
     "text": [
      "[+] Found and replaced 3358 examples with observed examples\n",
      "Original Number of CWEs: 882, final count: 409\n"
     ]
    },
    {
     "name": "stderr",
     "output_type": "stream",
     "text": [
      "/usr/local/lib/python3.6/dist-packages/ipykernel_launcher.py:14: SettingWithCopyWarning: \n",
      "A value is trying to be set on a copy of a slice from a DataFrame.\n",
      "Try using .loc[row_indexer,col_indexer] = value instead\n",
      "\n",
      "See the caveats in the documentation: http://pandas.pydata.org/pandas-docs/stable/user_guide/indexing.html#returning-a-view-versus-a-copy\n",
      "  \n"
     ]
    }
   ],
   "source": [
    "merged_and_pipelined_df = cve_transform_pipeline.fit_transform(merged_df)"
   ]
  },
  {
   "cell_type": "code",
   "execution_count": 212,
   "metadata": {},
   "outputs": [],
   "source": [
    "sss_train_test = StratifiedShuffleSplit(n_splits=1, test_size=0.3)\n",
    "sss_train_test.get_n_splits(merged_and_pipelined_df['Description'], merged_and_pipelined_df['CWE-ID'])\n",
    "\n",
    "# 70 / 30 train/test split\n",
    "train_idx, test_idx = [], []\n",
    "for train, test in sss_train_test.split(merged_and_pipelined_df['Description'], merged_and_pipelined_df['CWE-ID']):\n",
    "        train_idx.append(train)\n",
    "        test_idx.append(test)\n",
    "        \n",
    "train_frame = merged_and_pipelined_df.iloc[train_idx[0]]\n",
    "test_frame = merged_and_pipelined_df.iloc[test_idx[0]]\n",
    "\n",
    "# Split the current test set in two to create a Validation set\n",
    "# 70/15/15\n",
    "\n",
    "sss_test_validation = StratifiedShuffleSplit(n_splits=1, test_size=0.5)\n",
    "sss_train_test.get_n_splits(test_frame['Description'], test_frame['CWE-ID'])\n",
    "test_idx, validation_idx = [], []\n",
    "for test, validation in sss_test_validation.split(test_frame['Description'], test_frame['CWE-ID']):\n",
    "        test_idx.append(test)\n",
    "        validation_idx.append(validation)\n",
    "\n",
    "test_frame = merged_and_pipelined_df.iloc[test_idx[0]]\n",
    "validation_frame = merged_and_pipelined_df.iloc[validation_idx[0]]"
   ]
  },
  {
   "cell_type": "code",
   "execution_count": 194,
   "metadata": {},
   "outputs": [],
   "source": [
    "output_dir = \"../datasets/TrainingV3/TTVDatasets/\"\n",
    "\n",
    "merged_and_pipelined_df.to_csv(output_dir + \"all_data.csv\", index=False)\n",
    "train_frame.to_csv(output_dir + \"train_cwe_nlp.csv\", index=False)\n",
    "test_frame.to_csv(output_dir + \"test_cwe_nlp.csv\", index=False)\n",
    "validation_frame.to_csv(output_dir + \"validation_cwe_nlp.csv\", index=False)\n",
    "underrep_frame.to_csv(output_dir + \"underrep_cwe_nlp.csv\", index=False)\n",
    "\n",
    "import pickle\n",
    "pickle.dump( lookup_table, open( output_dir + \"lookup_table.p\", \"wb\" ) )"
   ]
  },
  {
   "cell_type": "code",
   "execution_count": 213,
   "metadata": {},
   "outputs": [
    {
     "name": "stdout",
     "output_type": "stream",
     "text": [
      "409\n",
      "407\n",
      "403\n",
      "Unique: 409\n"
     ]
    }
   ],
   "source": [
    "train_labels = train_frame['CWE-ID'].unique()\n",
    "validation_labels = validation_frame['CWE-ID'].unique()\n",
    "test_labels = test_frame['CWE-ID'].unique()\n",
    "merged_labels = np.concatenate((train_labels, validation_labels, test_labels))\n",
    "merged_labels = np.unique(merged_labels)\n",
    "\n",
    "print(len(train_labels))\n",
    "print(len(validation_labels))\n",
    "print(len(test_labels))\n",
    "print(\"Unique: {}\".format(len(merged_labels)))"
   ]
  },
  {
   "cell_type": "code",
   "execution_count": 198,
   "metadata": {},
   "outputs": [
    {
     "name": "stdout",
     "output_type": "stream",
     "text": [
      "{1004: 0, 1007: 1, 1021: 2, 1037: 3, 113: 4, 93: 5, 115: 6, 116: 7, 788: 8, 823: 9, 119: 10, 680: 11, 1244: 12, 120: 13, 130: 14, 170: 15, 1236: 16, 787: 17, 786: 18, 125: 19, 129: 20, 781: 21, 833: 22, 131: 23, 682: 24, 155: 25, 783: 26, 134: 27, 426: 28, 138: 29, 150: 30, 141: 31, 48: 32, 143: 33, 144: 34, 147: 35, 151: 36, 157: 37, 154: 38, 152: 39, 56: 40, 156: 41, 158: 42, 42: 43, 177: 44, 626: 45, 166: 46, 239: 47, 85: 48, 841: 49, 174: 50, 176: 51, 33: 52, 46: 53, 54: 54, 178: 55, 58: 56, 439: 57, 433: 58, 180: 59, 57: 60, 181: 61, 55: 62, 182: 63, 35: 64, 502: 65, 183: 66, 184: 67, 86: 68, 79: 69, 78: 70, 28: 71, 625: 72, 50: 73, 185: 74, 209: 75, 186: 76, 187: 77, 305: 78, 416: 79, 190: 80, 191: 81, 193: 82, 617: 83, 194: 84, 681: 85, 95: 86, 89: 87, 20: 88, 824: 89, 204: 90, 213: 91, 208: 92, 250: 93, 215: 94, 207: 95, 449: 96, 206: 97, 532: 98, 210: 99, 211: 100, 212: 101, 214: 102, 219: 103, 22: 104, 73: 105, 98: 106, 222: 107, 223: 108, 65: 109, 226: 110, 316: 111, 394: 112, 27: 113, 30: 114, 29: 115, 31: 116, 32: 117, 34: 118, 230: 119, 234: 120, 236: 121, 235: 122, 241: 123, 252: 124, 273: 125, 690: 126, 842: 127, 266: 128, 267: 129, 779: 130, 268: 131, 269: 132, 270: 133, 271: 134, 422: 135, 274: 136, 276: 137, 277: 138, 279: 139, 280: 140, 281: 141, 282: 142, 283: 143, 284: 144, 285: 145, 351: 146, 287: 147, 290: 148, 836: 149, 916: 150, 288: 151, 420: 152, 289: 153, 319: 154, 561: 155, 296: 156, 299: 157, 297: 158, 295: 159, 358: 160, 302: 161, 306: 162, 307: 163, 312: 164, 313: 165, 315: 166, 314: 167, 317: 168, 318: 169, 325: 170, 326: 171, 327: 172, 656: 173, 338: 174, 330: 175, 331: 176, 334: 177, 341: 178, 342: 179, 940: 180, 346: 181, 350: 182, 347: 183, 348: 184, 349: 185, 352: 186, 356: 187, 64: 188, 37: 189, 38: 190, 39: 191, 51: 192, 40: 193, 362: 194, 367: 195, 476: 196, 826: 197, 364: 198, 828: 199, 368: 200, 369: 201, 392: 202, 393: 203, 400: 204, 772: 205, 770: 206, 775: 207, 401: 208, 911: 209, 403: 210, 941: 211, 406: 212, 407: 213, 408: 214, 776: 215, 49: 216, 52: 217, 410: 218, 412: 219, 415: 220, 421: 221, 425: 222, 427: 223, 428: 224, 43: 225, 430: 226, 434: 227, 602: 228, 436: 229, 440: 230, 441: 231, 918: 232, 444: 233, 446: 234, 447: 235, 451: 236, 454: 237, 455: 238, 456: 239, 908: 240, 457: 241, 459: 242, 470: 243, 471: 244, 472: 245, 473: 246, 479: 247, 494: 248, 915: 249, 620: 250, 573: 251, 61: 252, 62: 253, 601: 254, 603: 255, 611: 256, 614: 257, 615: 258, 616: 259, 618: 260, 914: 261, 622: 262, 623: 263, 624: 264, 683: 265, 636: 266, 757: 267, 637: 268, 638: 269, 642: 270, 644: 271, 648: 272, 649: 273, 798: 274, 665: 275, 765: 276, 832: 277, 67: 278, 674: 279, 676: 280, 688: 281, 689: 282, 69: 283, 692: 284, 694: 285, 696: 286, 697: 287, 698: 288, 96: 289, 708: 290, 732: 291, 782: 292, 733: 293, 749: 294, 778: 295, 88: 296, 807: 297, 789: 298, 82: 299, 799: 300, 80: 301, 83: 302, 805: 303, 81: 304, 822: 305, 825: 306, 829: 307, 835: 308, 837: 309, 838: 310, 839: 311, 84: 312, 843: 313, 862: 314, 863: 315, 90: 316, 939: 317, 942: 318, 943: 319, 1039: 320, 117: 321, 118: 322, 1187: 323, 1188: 324, 123: 325, 1232: 326, 1239: 327, 1240: 328, 1249: 329, 1251: 330, 172: 331, 200: 332, 203: 333, 23: 334, 259: 335, 294: 336, 298: 337, 311: 338, 332: 339, 335: 340, 345: 341, 354: 342, 359: 343, 36: 344, 370: 345, 384: 346, 386: 347, 404: 348, 493: 349, 521: 350, 522: 351, 534: 352, 538: 353, 552: 354, 565: 355, 59: 356, 599: 357, 610: 358, 613: 359, 639: 360, 640: 361, 647: 362, 664: 363, 668: 364, 669: 365, 670: 366, 672: 367, 693: 368, 704: 369, 706: 370, 707: 371, 74: 372, 754: 373, 755: 374, 759: 375, 763: 376, 769: 377, 77: 378, 827: 379, 830: 380, 834: 381, 909: 382, 91: 383, 913: 384, 920: 385, 921: 386, 922: 387, 924: 388, 927: 389, 94: 390, 99: 391, 417: 392, 254: 393, 255: 394, 275: 395, 399: 396, 310: 397, 320: 398, 388: 399, 264: 400, 16: 401, 19: 402, 189: 403, 361: 404, 17: 405, 199: 406, 21: 407, 18: 408}\n"
     ]
    }
   ],
   "source": [
    "print(lookup_table)"
   ]
  },
  {
   "cell_type": "code",
   "execution_count": 200,
   "metadata": {},
   "outputs": [
    {
     "ename": "KeyError",
     "evalue": "0",
     "output_type": "error",
     "traceback": [
      "\u001b[0;31m\u001b[0m",
      "\u001b[0;31mKeyError\u001b[0mTraceback (most recent call last)",
      "\u001b[0;32m<ipython-input-200-e1b2c8d2afe3>\u001b[0m in \u001b[0;36m<module>\u001b[0;34m\u001b[0m\n\u001b[1;32m      1\u001b[0m \u001b[0;32mfor\u001b[0m \u001b[0mi\u001b[0m \u001b[0;32min\u001b[0m \u001b[0mmerged_labels\u001b[0m\u001b[0;34m:\u001b[0m\u001b[0;34m\u001b[0m\u001b[0;34m\u001b[0m\u001b[0m\n\u001b[0;32m----> 2\u001b[0;31m     \u001b[0mprint\u001b[0m\u001b[0;34m(\u001b[0m\u001b[0mlookup_table\u001b[0m\u001b[0;34m[\u001b[0m\u001b[0mi\u001b[0m\u001b[0;34m]\u001b[0m\u001b[0;34m)\u001b[0m\u001b[0;34m\u001b[0m\u001b[0;34m\u001b[0m\u001b[0m\n\u001b[0m",
      "\u001b[0;31mKeyError\u001b[0m: 0"
     ]
    }
   ],
   "source": [
    "for i in merged_labels:\n",
    "    print(lookup_table[i])"
   ]
  },
  {
   "cell_type": "code",
   "execution_count": null,
   "metadata": {},
   "outputs": [],
   "source": []
  },
  {
   "cell_type": "code",
   "execution_count": null,
   "metadata": {},
   "outputs": [],
   "source": []
  },
  {
   "cell_type": "code",
   "execution_count": null,
   "metadata": {},
   "outputs": [],
   "source": []
  },
  {
   "cell_type": "code",
   "execution_count": null,
   "metadata": {},
   "outputs": [],
   "source": []
  },
  {
   "cell_type": "code",
   "execution_count": null,
   "metadata": {},
   "outputs": [],
   "source": []
  },
  {
   "cell_type": "code",
   "execution_count": null,
   "metadata": {},
   "outputs": [],
   "source": []
  },
  {
   "cell_type": "code",
   "execution_count": null,
   "metadata": {},
   "outputs": [],
   "source": [
    "\n"
   ]
  },
  {
   "cell_type": "code",
   "execution_count": null,
   "metadata": {},
   "outputs": [],
   "source": []
  }
 ],
 "metadata": {
  "kernelspec": {
   "display_name": "Python 3",
   "language": "python",
   "name": "python3"
  },
  "language_info": {
   "codemirror_mode": {
    "name": "ipython",
    "version": 3
   },
   "file_extension": ".py",
   "mimetype": "text/x-python",
   "name": "python",
   "nbconvert_exporter": "python",
   "pygments_lexer": "ipython3",
   "version": "3.6.9"
  }
 },
 "nbformat": 4,
 "nbformat_minor": 4
}
